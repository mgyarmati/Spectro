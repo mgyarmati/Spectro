{
 "cells": [
  {
   "cell_type": "markdown",
   "id": "1aeb89e7",
   "metadata": {
    "slideshow": {
     "slide_type": "slide"
    }
   },
   "source": [
    "# Differential Privacy (DP)"
   ]
  },
  {
   "cell_type": "markdown",
   "id": "f52557b9",
   "metadata": {
    "slideshow": {
     "slide_type": "subslide"
    }
   },
   "source": [
    "- Used to answer (numeric) queries.\n",
    "- Analyst can't decide if an individual's data was used or not to answer the query.\n",
    "- Laplace mechanism (adding Laplacian noise) satisfies DP.\n",
    "- More privacy = Smaller $\\varepsilon$ = More noise = Less accuracy\n",
    "- More accuracy = less noise = larger $\\varepsilon$ = less privacy\n",
    "- Sequential composition: It is safe to answer multiple queries about the same dataset. The privacy cost is adding up."
   ]
  },
  {
   "cell_type": "markdown",
   "id": "332d36b1",
   "metadata": {
    "slideshow": {
     "slide_type": "slide"
    }
   },
   "source": [
    "## Parallel Composition"
   ]
  },
  {
   "cell_type": "markdown",
   "id": "7a0a3738",
   "metadata": {
    "slideshow": {
     "slide_type": "subslide"
    }
   },
   "source": [
    " - Splitting the dataset into disjoint chunks\n",
    " - Running a differentially private mechanism on each chunk separately."
   ]
  },
  {
   "cell_type": "markdown",
   "id": "1f3f4434",
   "metadata": {
    "slideshow": {
     "slide_type": "subslide"
    }
   },
   "source": [
    " - The chunks are disjoint, so each individual's data appears in exactly one chunk.\n",
    " - The mechanism runs exactly once on the data of each individual.\n",
    "  \n",
    "> ### Theorem (Parallel Composition) \n",
    "> Suppose that $M$ satisfies $\\varepsilon$-differential privacy. Split datast $D$ into disjoint chunks, such that $D =D_1 \\cup \\dots D_k$. Then the mechanism which releases $M(D_1),\\dots,M(D_k)$ satisfies $\\varepsilon$-differential privacy.\n",
    " \n",
    "  - The budget of running $k$ $\\varepsilon$-DP algortihm on disjoint chunks of dataset gives a privacy budget $\\varepsilon$ instead of $k\\varepsilon$."
   ]
  },
  {
   "cell_type": "markdown",
   "id": "a9807808",
   "metadata": {
    "slideshow": {
     "slide_type": "slide"
    }
   },
   "source": [
    "### Histograms\n",
    "\n",
    "Anaysis of a dataset which splits the dataset into \"bins\" based on value of one of the data attributes, and counts the number of rows in each bin.\n",
    "\n",
    "Example: Count the number of people in the dataset who achieved a particular educational level."
   ]
  },
  {
   "cell_type": "code",
   "execution_count": 2,
   "id": "a0a64c0b",
   "metadata": {
    "slideshow": {
     "slide_type": "skip"
    }
   },
   "outputs": [],
   "source": [
    "import pandas as pd\n",
    "import numpy as np\n",
    "import matplotlib.pyplot as plt"
   ]
  },
  {
   "cell_type": "code",
   "execution_count": 3,
   "id": "0a421469",
   "metadata": {
    "slideshow": {
     "slide_type": "fragment"
    }
   },
   "outputs": [
    {
     "data": {
      "text/html": [
       "<div>\n",
       "<style scoped>\n",
       "    .dataframe tbody tr th:only-of-type {\n",
       "        vertical-align: middle;\n",
       "    }\n",
       "\n",
       "    .dataframe tbody tr th {\n",
       "        vertical-align: top;\n",
       "    }\n",
       "\n",
       "    .dataframe thead th {\n",
       "        text-align: right;\n",
       "    }\n",
       "</style>\n",
       "<table border=\"1\" class=\"dataframe\">\n",
       "  <thead>\n",
       "    <tr style=\"text-align: right;\">\n",
       "      <th></th>\n",
       "      <th>Education</th>\n",
       "    </tr>\n",
       "  </thead>\n",
       "  <tbody>\n",
       "    <tr>\n",
       "      <th>HS-grad</th>\n",
       "      <td>10501</td>\n",
       "    </tr>\n",
       "    <tr>\n",
       "      <th>Some-college</th>\n",
       "      <td>7291</td>\n",
       "    </tr>\n",
       "    <tr>\n",
       "      <th>Bachelors</th>\n",
       "      <td>5355</td>\n",
       "    </tr>\n",
       "    <tr>\n",
       "      <th>Masters</th>\n",
       "      <td>1723</td>\n",
       "    </tr>\n",
       "    <tr>\n",
       "      <th>Assoc-voc</th>\n",
       "      <td>1382</td>\n",
       "    </tr>\n",
       "  </tbody>\n",
       "</table>\n",
       "</div>"
      ],
      "text/plain": [
       "              Education\n",
       "HS-grad           10501\n",
       "Some-college       7291\n",
       "Bachelors          5355\n",
       "Masters            1723\n",
       "Assoc-voc          1382"
      ]
     },
     "execution_count": 3,
     "metadata": {},
     "output_type": "execute_result"
    }
   ],
   "source": [
    "adult = pd.read_csv(\"adult_with_pii.csv\")\n",
    "adult['Education'].value_counts().to_frame().head(5)"
   ]
  },
  {
   "cell_type": "markdown",
   "id": "7da3a1c3",
   "metadata": {
    "slideshow": {
     "slide_type": "subslide"
    }
   },
   "source": [
    " - Histograms automatically satisfy parallel composition.\n",
    " - Each \"bin\" in a histogram is defined by a possible value for a data attribute (e.g., 'Education' = 'Bachelor's degree')"
   ]
  },
  {
   "cell_type": "code",
   "execution_count": 4,
   "id": "512ebe94",
   "metadata": {
    "slideshow": {
     "slide_type": "fragment"
    }
   },
   "outputs": [
    {
     "data": {
      "text/html": [
       "<div>\n",
       "<style scoped>\n",
       "    .dataframe tbody tr th:only-of-type {\n",
       "        vertical-align: middle;\n",
       "    }\n",
       "\n",
       "    .dataframe tbody tr th {\n",
       "        vertical-align: top;\n",
       "    }\n",
       "\n",
       "    .dataframe thead th {\n",
       "        text-align: right;\n",
       "    }\n",
       "</style>\n",
       "<table border=\"1\" class=\"dataframe\">\n",
       "  <thead>\n",
       "    <tr style=\"text-align: right;\">\n",
       "      <th></th>\n",
       "      <th>Education</th>\n",
       "    </tr>\n",
       "  </thead>\n",
       "  <tbody>\n",
       "    <tr>\n",
       "      <th>HS-grad</th>\n",
       "      <td>10500.253580</td>\n",
       "    </tr>\n",
       "    <tr>\n",
       "      <th>Some-college</th>\n",
       "      <td>7289.475379</td>\n",
       "    </tr>\n",
       "    <tr>\n",
       "      <th>Bachelors</th>\n",
       "      <td>5355.529765</td>\n",
       "    </tr>\n",
       "    <tr>\n",
       "      <th>Masters</th>\n",
       "      <td>1723.073338</td>\n",
       "    </tr>\n",
       "    <tr>\n",
       "      <th>Assoc-voc</th>\n",
       "      <td>1385.325493</td>\n",
       "    </tr>\n",
       "  </tbody>\n",
       "</table>\n",
       "</div>"
      ],
      "text/plain": [
       "                 Education\n",
       "HS-grad       10500.253580\n",
       "Some-college   7289.475379\n",
       "Bachelors      5355.529765\n",
       "Masters        1723.073338\n",
       "Assoc-voc      1385.325493"
      ]
     },
     "execution_count": 4,
     "metadata": {},
     "output_type": "execute_result"
    }
   ],
   "source": [
    "epsilon = 1\n",
    "\n",
    "# This analysis has a total privacy cost of epsilon = 1, even though we release many results!\n",
    "f = lambda x: x + np.random.laplace(loc=0, scale=1/epsilon)\n",
    "s = adult['Education'].value_counts().apply(f)\n",
    "s.to_frame().head(5)"
   ]
  },
  {
   "cell_type": "markdown",
   "id": "8f010504",
   "metadata": {
    "slideshow": {
     "slide_type": "slide"
    }
   },
   "source": [
    "### Contingency Tables (Cross tabulation)\n",
    "\n",
    " - Like a multi-dimensional histogram.\n",
    " - It counts the frequency of rows in the dataset with particular values for more than one attribute at a time.\n",
    " - Contingency tables are frequently used to show the relationship between two variables when analyzing data.\n",
    " - E.g., we might want to see counts based on both education level and gender"
   ]
  },
  {
   "cell_type": "code",
   "execution_count": 5,
   "id": "55ac2cd8",
   "metadata": {
    "slideshow": {
     "slide_type": "subslide"
    }
   },
   "outputs": [
    {
     "data": {
      "text/html": [
       "<div>\n",
       "<style scoped>\n",
       "    .dataframe tbody tr th:only-of-type {\n",
       "        vertical-align: middle;\n",
       "    }\n",
       "\n",
       "    .dataframe tbody tr th {\n",
       "        vertical-align: top;\n",
       "    }\n",
       "\n",
       "    .dataframe thead th {\n",
       "        text-align: right;\n",
       "    }\n",
       "</style>\n",
       "<table border=\"1\" class=\"dataframe\">\n",
       "  <thead>\n",
       "    <tr style=\"text-align: right;\">\n",
       "      <th>Sex</th>\n",
       "      <th>Female</th>\n",
       "      <th>Male</th>\n",
       "    </tr>\n",
       "    <tr>\n",
       "      <th>Education</th>\n",
       "      <th></th>\n",
       "      <th></th>\n",
       "    </tr>\n",
       "  </thead>\n",
       "  <tbody>\n",
       "    <tr>\n",
       "      <th>10th</th>\n",
       "      <td>295</td>\n",
       "      <td>638</td>\n",
       "    </tr>\n",
       "    <tr>\n",
       "      <th>11th</th>\n",
       "      <td>432</td>\n",
       "      <td>743</td>\n",
       "    </tr>\n",
       "    <tr>\n",
       "      <th>12th</th>\n",
       "      <td>144</td>\n",
       "      <td>289</td>\n",
       "    </tr>\n",
       "    <tr>\n",
       "      <th>1st-4th</th>\n",
       "      <td>46</td>\n",
       "      <td>122</td>\n",
       "    </tr>\n",
       "    <tr>\n",
       "      <th>5th-6th</th>\n",
       "      <td>84</td>\n",
       "      <td>249</td>\n",
       "    </tr>\n",
       "  </tbody>\n",
       "</table>\n",
       "</div>"
      ],
      "text/plain": [
       "Sex        Female  Male\n",
       "Education              \n",
       "10th          295   638\n",
       "11th          432   743\n",
       "12th          144   289\n",
       "1st-4th        46   122\n",
       "5th-6th        84   249"
      ]
     },
     "execution_count": 5,
     "metadata": {},
     "output_type": "execute_result"
    }
   ],
   "source": [
    "pd.crosstab(adult['Education'], adult['Sex']).head(5)"
   ]
  },
  {
   "cell_type": "markdown",
   "id": "8469c566",
   "metadata": {
    "slideshow": {
     "slide_type": "subslide"
    }
   },
   "source": [
    " - Each individual participates in eaxctly one count.\n",
    " - It is safe to use parallel composition."
   ]
  },
  {
   "cell_type": "code",
   "execution_count": 6,
   "id": "cb392c28",
   "metadata": {
    "slideshow": {
     "slide_type": "fragment"
    }
   },
   "outputs": [
    {
     "data": {
      "text/html": [
       "<div>\n",
       "<style scoped>\n",
       "    .dataframe tbody tr th:only-of-type {\n",
       "        vertical-align: middle;\n",
       "    }\n",
       "\n",
       "    .dataframe tbody tr th {\n",
       "        vertical-align: top;\n",
       "    }\n",
       "\n",
       "    .dataframe thead th {\n",
       "        text-align: right;\n",
       "    }\n",
       "</style>\n",
       "<table border=\"1\" class=\"dataframe\">\n",
       "  <thead>\n",
       "    <tr style=\"text-align: right;\">\n",
       "      <th>Sex</th>\n",
       "      <th>Female</th>\n",
       "      <th>Male</th>\n",
       "    </tr>\n",
       "    <tr>\n",
       "      <th>Education</th>\n",
       "      <th></th>\n",
       "      <th></th>\n",
       "    </tr>\n",
       "  </thead>\n",
       "  <tbody>\n",
       "    <tr>\n",
       "      <th>10th</th>\n",
       "      <td>292.319766</td>\n",
       "      <td>637.894232</td>\n",
       "    </tr>\n",
       "    <tr>\n",
       "      <th>11th</th>\n",
       "      <td>432.874968</td>\n",
       "      <td>742.203356</td>\n",
       "    </tr>\n",
       "    <tr>\n",
       "      <th>12th</th>\n",
       "      <td>143.712783</td>\n",
       "      <td>290.310824</td>\n",
       "    </tr>\n",
       "    <tr>\n",
       "      <th>1st-4th</th>\n",
       "      <td>46.299542</td>\n",
       "      <td>123.464276</td>\n",
       "    </tr>\n",
       "    <tr>\n",
       "      <th>5th-6th</th>\n",
       "      <td>84.791060</td>\n",
       "      <td>248.893246</td>\n",
       "    </tr>\n",
       "  </tbody>\n",
       "</table>\n",
       "</div>"
      ],
      "text/plain": [
       "Sex            Female        Male\n",
       "Education                        \n",
       "10th       292.319766  637.894232\n",
       "11th       432.874968  742.203356\n",
       "12th       143.712783  290.310824\n",
       "1st-4th     46.299542  123.464276\n",
       "5th-6th     84.791060  248.893246"
      ]
     },
     "execution_count": 6,
     "metadata": {},
     "output_type": "execute_result"
    }
   ],
   "source": [
    "ct = pd.crosstab(adult['Education'], adult['Sex'])\n",
    "f = lambda x: x + np.random.laplace(loc=0, scale=1/epsilon)\n",
    "ct.applymap(f).head(5)"
   ]
  },
  {
   "cell_type": "markdown",
   "id": "6603fcdf",
   "metadata": {
    "slideshow": {
     "slide_type": "slide"
    }
   },
   "source": [
    "## Post-processing"
   ]
  },
  {
   "cell_type": "markdown",
   "id": "a4af3593",
   "metadata": {
    "slideshow": {
     "slide_type": "slide"
    }
   },
   "source": [
    " - Informally: It is impossible to reverse the privacy protection provided by DP by post-processing the data in some way.\n",
    " \n",
    " > ### Post processing\n",
    " > If $M$ satisfies DP, then for any function $g$, $g(M)$ satisfies $\\varepsilon$-DP."
   ]
  },
  {
   "cell_type": "markdown",
   "id": "d1b7c689",
   "metadata": {
    "slideshow": {
     "slide_type": "fragment"
    }
   },
   "source": [
    " - It is safe to perform post-processing that might reduce the noise or improve the signal in the mechanism's output.\n",
    "  - Once we put DP on a data, it always remains on it."
   ]
  },
  {
   "cell_type": "markdown",
   "id": "52191bf3",
   "metadata": {
    "slideshow": {
     "slide_type": "subslide"
    }
   },
   "source": [
    " - DP provide resistance against privacy attacks based on auxiliary information.\n",
    "  - E.g., function $g$ might contain auxiliary inforamtion.\n",
    "  - Linkage attacks based on this information are limited in its effectivenss by the parameter $\\varepsilon$."
   ]
  },
  {
   "cell_type": "markdown",
   "id": "6e03aabf",
   "metadata": {
    "slideshow": {
     "slide_type": "slide"
    }
   },
   "source": [
    "### Summary\n",
    "\n",
    " - Sequential composition bounds the total privacy cost of multiple release of the data when apply DP\n",
    " - Parallel composition is based on splitting the dataset into disjoint chunks and run the DP mechanism separately. The privacy cost is only the cost of one DP mechanism.\n",
    " - Post-processing property means that it is safe to perform arbitrary computations on the output of DP, in particular it is protect against attacks based on auxiliary inforamtion."
   ]
  },
  {
   "cell_type": "markdown",
   "id": "2c7d90d0",
   "metadata": {
    "slideshow": {
     "slide_type": "slide"
    }
   },
   "source": [
    "## Sensitivity"
   ]
  },
  {
   "cell_type": "markdown",
   "id": "f9f63fa4",
   "metadata": {
    "slideshow": {
     "slide_type": "slide"
    }
   },
   "source": [
    " - The amount of the function's output can change if the input changes.\n",
    " - Let $f: \\mathcal{D} \\rightarrow \\mathbb{R}$ be a function. Then $$S(f) = \\max_{x,x':d(x,x')\\le 1} |f(x) - f(x')|$$\n",
    " - If $f$ is a count query, then $S(f) = 1$.\n",
    " - If $f$ is the age sum query, then $S(f)$ is the maximal possible age of an individual.\n",
    " - It is often challenging to compute the sensitivity. We will discuss this later."
   ]
  },
  {
   "cell_type": "markdown",
   "id": "48d4927f",
   "metadata": {
    "slideshow": {
     "slide_type": "subslide"
    }
   },
   "source": [
    "### How to Calculate Sensitivity\n",
    "\n",
    "What is the sensitivity of the following functions?\n",
    " 1. $f(D):$ number of individuals in the dataset? \n",
    " 2. $f(D):$ number of individuals with salary '100k to 200k'?\n",
    " 3. $f(D):$ sum of Zip codes, age, income?\n",
    " 4. $f(D):$ mean of the age (outcome) of individuals?"
   ]
  },
  {
   "cell_type": "markdown",
   "id": "4283c0d3",
   "metadata": {
    "slideshow": {
     "slide_type": "subslide"
    }
   },
   "source": [
    " 1. Count query: 1\n",
    " 2. Count query: 1\n",
    " 3. Difference between the min and max value:\n",
    "     - Zip code: 0 and 99999.\n",
    "     - Age: 0 and 125? In our dataset: 18 and 65.\n",
    "     - Income: ? and ? \n",
    " 4. Problem: The size of the dataset might be sensitive .\n",
    "     - Compute a sum and a count query and output the quotient."
   ]
  },
  {
   "cell_type": "markdown",
   "id": "5e44749d",
   "metadata": {
    "slideshow": {
     "slide_type": "subslide"
    }
   },
   "source": [
    "What is the average age of people with educational grade 'Masters' degree?"
   ]
  },
  {
   "cell_type": "code",
   "execution_count": 7,
   "id": "dca790c4",
   "metadata": {
    "slideshow": {
     "slide_type": "fragment"
    }
   },
   "outputs": [
    {
     "data": {
      "text/plain": [
       "44.04991294254208"
      ]
     },
     "execution_count": 7,
     "metadata": {},
     "output_type": "execute_result"
    }
   ],
   "source": [
    "adult[adult['Education'] == 'Masters']['Age'].mean()"
   ]
  },
  {
   "cell_type": "code",
   "execution_count": 8,
   "id": "a4ef9be8",
   "metadata": {
    "slideshow": {
     "slide_type": "fragment"
    }
   },
   "outputs": [
    {
     "data": {
      "text/plain": [
       "44.04991294254208"
      ]
     },
     "execution_count": 8,
     "metadata": {},
     "output_type": "execute_result"
    }
   ],
   "source": [
    "adult[adult['Education'] == 'Masters']['Age'].sum() / adult[adult['Education'] == 'Masters']['Age'].shape[0]"
   ]
  },
  {
   "cell_type": "code",
   "execution_count": 9,
   "id": "c753488e",
   "metadata": {
    "slideshow": {
     "slide_type": "fragment"
    }
   },
   "outputs": [
    {
     "data": {
      "text/plain": [
       "43.89913531155309"
      ]
     },
     "execution_count": 9,
     "metadata": {},
     "output_type": "execute_result"
    }
   ],
   "source": [
    "epsilon = 0.5\n",
    "age_min, age_max = 18, 65\n",
    "sensitivity = age_max - age_min\n",
    "num = adult[adult['Education'] == 'Masters']['Age'].sum() + np.random.laplace(loc=0, scale=sensitivity/epsilon)\n",
    "denom = adult[adult['Education'] == 'Masters']['Age'].shape[0] + np.random.laplace(loc=0, scale=1/epsilon)\n",
    "num / denom"
   ]
  },
  {
   "cell_type": "markdown",
   "id": "0e5b6007",
   "metadata": {
    "slideshow": {
     "slide_type": "subslide"
    }
   },
   "source": [
    " - Queries with unbounded sensitivity cannot be directly answered with DP using Laplace mechanism.\n",
    " - Idea: Transform the queries into equivalent queries with bounded sensitivity. \n",
    " - But how?"
   ]
  },
  {
   "cell_type": "markdown",
   "id": "2d228c38",
   "metadata": {
    "slideshow": {
     "slide_type": "slide"
    }
   },
   "source": [
    "### Clipping\n",
    " - Enforce upper and lower bounds on attribute values.\n",
    " - Clip values that are above or below some given value.\n",
    " - For example, age can be clipped to 125 (or 100)."
   ]
  },
  {
   "cell_type": "code",
   "execution_count": 10,
   "id": "06f33bb0",
   "metadata": {
    "slideshow": {
     "slide_type": "fragment"
    }
   },
   "outputs": [
    {
     "data": {
      "text/plain": [
       "1256257"
      ]
     },
     "execution_count": 10,
     "metadata": {},
     "output_type": "execute_result"
    }
   ],
   "source": [
    "adult['Age'].clip(lower=0, upper=125).sum()"
   ]
  },
  {
   "cell_type": "markdown",
   "id": "e8291a8b",
   "metadata": {
    "slideshow": {
     "slide_type": "slide"
    }
   },
   "source": [
    "**Problem:** How to determine the upper and lower bounds?  "
   ]
  },
  {
   "cell_type": "markdown",
   "id": "17dd7a88",
   "metadata": {
    "slideshow": {
     "slide_type": "fragment"
    }
   },
   "source": [
    "There is a trade-of between information lost in clipping and the noise needed to ensure DP. \n",
    " - If upper and lower bounds are closer, then the sensitivity is lower, so less noise is needed.\n",
    " - Aggressive clipping often removes a lot of informationfrom the data. "
   ]
  },
  {
   "cell_type": "markdown",
   "id": "9e29ede8",
   "metadata": {
    "slideshow": {
     "slide_type": "fragment"
    }
   },
   "source": [
    "*Rule of thumb:* try to set the clipping bounds to include 100% of the dataset, or get as close as possible."
   ]
  },
  {
   "cell_type": "markdown",
   "id": "9146bca5",
   "metadata": {
    "slideshow": {
     "slide_type": "subslide"
    }
   },
   "source": [
    "How to determine the upper and lower bounds?  \n",
    " - Why don't we look at the data? For example, we can look at the histogram of ages in our dataset to determine an appropriate upper bound. "
   ]
  },
  {
   "cell_type": "code",
   "execution_count": 11,
   "id": "cc3f2425",
   "metadata": {
    "slideshow": {
     "slide_type": "subslide"
    }
   },
   "outputs": [
    {
     "data": {
      "image/png": "[encoded data removed]",
      "text/plain": [
       "<Figure size 600x350 with 1 Axes>"
      ]
     },
     "metadata": {},
     "output_type": "display_data"
    }
   ],
   "source": [
    "plt.figure(figsize=(6,3.5))\n",
    "plt.hist(adult['Age'])\n",
    "plt.xlabel('Age')\n",
    "plt.ylabel('Number of Records');"
   ]
  },
  {
   "cell_type": "markdown",
   "id": "aa5b1307",
   "metadata": {
    "slideshow": {
     "slide_type": "fragment"
    }
   },
   "source": [
    "*Problem:* **This approach does not satisfy differential privacy**. If we pick our bound by looking at the data, then the bound themselves might receal something about the data."
   ]
  },
  {
   "cell_type": "markdown",
   "id": "05db0917",
   "metadata": {
    "slideshow": {
     "slide_type": "subslide"
    }
   },
   "source": [
    "Typically clipping bounds are decided by:\n",
    " - Using the property of the dataset that can be known without looking at the data (e.g., ages are between 0 and 125).\n",
    " - Perform differentially private queries to evaluate the different choices for clipping bounds."
   ]
  },
  {
   "cell_type": "markdown",
   "id": "206aa076",
   "metadata": {
    "slideshow": {
     "slide_type": "subslide"
    }
   },
   "source": [
    "Set the lower bound and slowly inrease the upper bound until the query's output stops changing.  "
   ]
  },
  {
   "cell_type": "code",
   "execution_count": 12,
   "id": "dc805e22",
   "metadata": {
    "slideshow": {
     "slide_type": "fragment"
    }
   },
   "outputs": [
    {
     "data": {
      "image/png": "[encoded data removed]",
      "text/plain": [
       "<Figure size 500x300 with 1 Axes>"
      ]
     },
     "metadata": {},
     "output_type": "display_data"
    }
   ],
   "source": [
    "def laplace_mech(v, sensitivity, epsilon):\n",
    "    return v + np.random.laplace(loc=0, scale=sensitivity/epsilon)\n",
    "\n",
    "epsilon_i = .01\n",
    "plt.figure(figsize = (5, 3))\n",
    "plt.plot([laplace_mech(adult['Age'].clip(lower=0, upper=i).sum(), i, epsilon_i) for i in range(100)])\n",
    "plt.xlabel('Clipping Bound for Age')\n",
    "plt.ylabel('Total Sum');"
   ]
  },
  {
   "cell_type": "markdown",
   "id": "950d2055",
   "metadata": {
    "slideshow": {
     "slide_type": "subslide"
    }
   },
   "source": [
    " - The total privacy cost is $\\varepsilon = 100$, because we do 100 queries.\n",
    " - The results stopped increasing around 70, so this is a good choice for upper clipping bound-"
   ]
  },
  {
   "cell_type": "markdown",
   "id": "415a364f",
   "metadata": {
    "slideshow": {
     "slide_type": "slide"
    }
   },
   "source": [
    "# Approximate Differential Privacy"
   ]
  },
  {
   "cell_type": "markdown",
   "id": "98bdc23a",
   "metadata": {
    "slideshow": {
     "slide_type": "slide"
    }
   },
   "source": [
    "> Algorithm $M$ is $(\\varepsilon,\\delta)$-differentially private if the following holds: $$\\Pr[M(D) = S] \\le e^\\varepsilon \\Pr[M(D') = S] + \\delta$$\n",
    "\n",
    "The difference between $\\epsilon$-DP is the term $\\delta$. What is the meaning of $\\delta$? "
   ]
  },
  {
   "cell_type": "markdown",
   "id": "549f07a1",
   "metadata": {
    "slideshow": {
     "slide_type": "subslide"
    }
   },
   "source": [
    "Informally it guarantee $\\varepsilon$-DP with probability $1 -\\delta$ and with $\\delta$ probability there is no quarantee on privacy.\n",
    "\n",
    " - With probability $1 - \\delta$, $\\frac{\\Pr[M(D)=S]}{\\Pr[M(D')=S]} \\le e^\\varepsilon$\n",
    " - With probability $\\delta$, there is no quarantee at all."
   ]
  },
  {
   "cell_type": "markdown",
   "id": "567b6884",
   "metadata": {
    "slideshow": {
     "slide_type": "subslide"
    }
   },
   "source": [
    "No guarantee? What could happen?\n",
    "\n",
    " - With $\\delta$ probability, the algorithm can release the entire dataset with all the sensitive information. Therefore $\\delta$ should be small, e.g., $\\frac{1}{n^2}$, where $n$ is the size of the dataset.\n",
    " - In practice, however, it doesn't seems to release a lot of sensitive information."
   ]
  },
  {
   "cell_type": "markdown",
   "id": "d9254b0e",
   "metadata": {
    "slideshow": {
     "slide_type": "slide"
    }
   },
   "source": [
    "### Sequential Composition\n",
    "\n",
    ">If $M_1,M_2$ satisfies $(\\varepsilon_1,\\delta_1)$-, and $(\\varepsilon_2,\\delta_2)$-DP, then the mechanism $M = (M_1,M_2)$, which release both results satisfies $(\\varepsilon_1 + \\varepsilon_2,\\delta_1 + \\delta_2)$-DP.\n",
    "\n",
    "Approximate DP also satisfies post-processing and parallel composition."
   ]
  },
  {
   "cell_type": "markdown",
   "id": "1689a427",
   "metadata": {
    "slideshow": {
     "slide_type": "slide"
    }
   },
   "source": [
    "## Gaussian Mechanism"
   ]
  },
  {
   "cell_type": "markdown",
   "id": "d3693ef9",
   "metadata": {
    "slideshow": {
     "slide_type": "slide"
    }
   },
   "source": [
    " - The Gaussian mechanism is an alternative to the Laplave mechanism.\n",
    " - Adds Gaussian noise instead of Laplacian noise.\n",
    " - It does not satisfy $\\varepsilon$-DP (pure DP).\n",
    " - It satisfies $(\\varepsilon,\\delta)$-DP."
   ]
  },
  {
   "cell_type": "markdown",
   "id": "e6114fb1",
   "metadata": {},
   "source": [
    " > Let $f$ be a function which returns a number. Mechanism $M$ satisfies $(\\varepsilon,\\delta)$-DP, if $$M(D) = f(D) + \\mathcal{N}(\\sigma^2)$$ \n",
    " > where $\\sigma^2 = \\frac{2s^2\\log(1.25/\\delta)}{\\varepsilon^2}$, $s$ is the sensitivity of $f$ and $\\mathcal{N}$ denotes sampling from Gaussian (normal) distribution with center 0 and variance $\\sigma^2$. "
   ]
  },
  {
   "cell_type": "code",
   "execution_count": 13,
   "id": "e2533466",
   "metadata": {
    "slideshow": {
     "slide_type": "subslide"
    }
   },
   "outputs": [
    {
     "data": {
      "image/png": "[encoded data removed]",
      "text/plain": [
       "<Figure size 640x480 with 1 Axes>"
      ]
     },
     "metadata": {},
     "output_type": "display_data"
    }
   ],
   "source": [
    "epsilon = 1\n",
    "vals_laplace = [np.random.laplace(loc=0, scale=1/epsilon) for x in range(100000)]\n",
    "\n",
    "delta = 10e-5\n",
    "sigma = np.sqrt(2 * np.log(1.25 / delta)) * 1 / epsilon\n",
    "vals_gauss = [np.random.normal(loc=0, scale=sigma) for x in range(100000)]\n",
    " \n",
    "plt.hist(vals_laplace, bins=50, label='Laplace')\n",
    "plt.hist(vals_gauss, bins=50, alpha=.7, label='Gaussian');\n",
    "plt.legend();"
   ]
  },
  {
   "cell_type": "markdown",
   "id": "88922ffd",
   "metadata": {
    "slideshow": {
     "slide_type": "subslide"
    }
   },
   "source": [
    "### Comparison of precision\n",
    "\n",
    " - Laplace mechanism looks much more pointy, while Gaussian mechanism looks \"squished\". \n",
    " - This results in a smaller amount of noise in Laplace mechanism. \n",
    " - Laplace mechanism is more accurate."
   ]
  },
  {
   "cell_type": "markdown",
   "id": "841e6187",
   "metadata": {
    "slideshow": {
     "slide_type": "fragment"
    }
   },
   "source": [
    "|-               | Laplace mechanism | Gaussian mechanism |\n",
    "|----------------|-------------------|--------------------|\n",
    "|Fail            | No fail           | Fail with $\\delta$ prob.|\n",
    "|Accuracy        | More accurate     | Less accurate      |"
   ]
  },
  {
   "cell_type": "markdown",
   "id": "bc89d889",
   "metadata": {
    "jp-MarkdownHeadingCollapsed": true,
    "slideshow": {
     "slide_type": "slide"
    }
   },
   "source": [
    "## Vector-Valued Function and Their Sensitivities"
   ]
  },
  {
   "cell_type": "markdown",
   "id": "aaf4d898",
   "metadata": {
    "slideshow": {
     "slide_type": "subslide"
    }
   },
   "source": [
    "### Sensitivity in 1-dimension\n",
    "\n",
    "$$S(f) = \\max_{x,x':d(x,x')\\le 1} |f(x) - f(x')|$$\n",
    "\n",
    "How to compute sensitivity of vector valued functions?"
   ]
  },
  {
   "cell_type": "markdown",
   "id": "30812b28",
   "metadata": {
    "slideshow": {
     "slide_type": "slide"
    }
   },
   "source": [
    "### L1 norm\n",
    "\n",
    "> The $L1$ norm of a vector $v$ of length $k$ is defined as $\\|V\\|_1 = \\sum_{i=1}^k |V_i|$ (i.e., the sum of the vector's elements). \n",
    "\n",
    "The $L1$ norm of the difference between two vectors yields the \"manhattan distance\" between them.\n",
    "\n",
    "- $\\|(3)\\|_1 = 3$\n",
    "- $\\|(3, 2, -4)\\|_1 = 3 + 2 + 4 = 9$\n",
    "- $\\|(-2, 0, -1.4, 6.25)\\|_1 = 2 + 0 + 1.4 + 6.25 = 9.65$"
   ]
  },
  {
   "cell_type": "markdown",
   "id": "7236a8e9",
   "metadata": {
    "slideshow": {
     "slide_type": "slide"
    }
   },
   "source": [
    "### L2 norm \n",
    "\n",
    "> The $L2$ norm of a vector $v$ of length $k$ is defined as $\\|V\\|_2 = \\sqrt{\\sum_{i=1}^k V_i^2}$ (i.e., the square root of the sum of the squares)\n",
    "\n",
    "The $L2$ norm of the difference between two vectors yields the \"Euclidean distance\" between them.\n",
    "\n",
    " - $\\|(3)\\|_2 = 3$\n",
    " - $\\|(3, -4)\\|_2 = \\sqrt{3^2 + (-4)^2} = \\sqrt{25} = 5$\n",
    " - $\\|(2, -1.5, \\sqrt{3})\\|_2 = \\sqrt{4 + 2.25 + 3} =\\sqrt{9.25} = 3.04$. "
   ]
  },
  {
   "cell_type": "markdown",
   "id": "dfbb3554",
   "metadata": {
    "slideshow": {
     "slide_type": "slide"
    }
   },
   "source": [
    "### L1 sensitivity\n",
    "\n",
    " > $$S(f) = \\max_{x,x':d(x,x')\\le 1} \\|f(x) - f(x')\\|_1$$\n",
    " \n",
    " This is equal to the sum of the elementwise sensitivities. If $f$ returns a vector of length $k$ of 1-sensitive results, then the $L1$ sensitivity is $k$."
   ]
  },
  {
   "cell_type": "markdown",
   "id": "cc2093f4",
   "metadata": {
    "slideshow": {
     "slide_type": "slide"
    }
   },
   "source": [
    " ### L2 sensitivity\n",
    " \n",
    " > $$S(f) = \\max_{x,x':d(x,x')\\le 1} \\|f(x) - f(x')\\|_2$$\n",
    " \n",
    " For the same examples as above, the $L2$ sensitivity is $\\sqrt{k}$."
   ]
  },
  {
   "cell_type": "markdown",
   "id": "337eac6b",
   "metadata": {
    "slideshow": {
     "slide_type": "slide"
    }
   },
   "source": [
    "### DP for Vector Valued Mechanisms\n",
    "\n",
    "Both Lapalce and Gaussian mechanism can be extended to vector-valued function.\n",
    "\n",
    " - Laplace mechanism require $L1$ senitivity.\n",
    " - Gaussian mechanism allows either $L1$ or $L2$ sensitivity."
   ]
  },
  {
   "cell_type": "markdown",
   "id": "c702d600",
   "metadata": {
    "slideshow": {
     "slide_type": "subslide"
    }
   },
   "source": [
    " - The vector-valued Laplace mechanism releases $f(x) + (Y_1,\\dots,Y_k)$, where $Y_i$ are drawn i.i.d. from the Laplace distribution with scale $\\frac{s}{\\varepsilon}$ and $s$ is the $L1$ sensitivity of $f$.\n",
    " - The vector-valued Gaussian mechanism releases $f(x) + (Y_1,\\dots,Y_k)$, where $Y_i$ are drawn i.i.d. from the Gaussian distribution with $\\sigma^2 = \\frac{2s^2\\log(1.25/\\delta)}{\\varepsilon^2}$ and $s$ is the $L2$ sensitivity of $f$."
   ]
  },
  {
   "cell_type": "markdown",
   "id": "5db84963",
   "metadata": {
    "slideshow": {
     "slide_type": "slide"
    }
   },
   "source": [
    "## The Catastrophe Mechanism"
   ]
  },
  {
   "cell_type": "markdown",
   "id": "6b5f305c",
   "metadata": {
    "slideshow": {
     "slide_type": "subslide"
    }
   },
   "source": [
    " - The definition of $(\\varepsilon,\\delta)$-DP says that the mechanism must \"behave well\" with probability $1-\\delta$. \n",
    " - With probability $\\delta$, the mechanism fails, anything can happen, there is no privacy quarantee."
   ]
  },
  {
   "cell_type": "markdown",
   "id": "25bb6cc5",
   "metadata": {
    "slideshow": {
     "slide_type": "slide"
    }
   },
   "source": [
    " > ### Catastrophe Mechanism\n",
    " > M(q,x) = Sample a number $r$ from the uniform distribution between 0 and 1.\n",
    " >  - If $r < \\delta$, return $x$.\n",
    " >  - Otherwise, return $q(x) + Lap(s/\\varepsilon)$, where $s$ is the sensitivity of $q$."
   ]
  },
  {
   "cell_type": "markdown",
   "id": "3c398b98",
   "metadata": {
    "slideshow": {
     "slide_type": "subslide"
    }
   },
   "source": [
    " - With probability $1-\\delta$, the mechanism satisfies $\\varepsilon$-DP.\n",
    " - With probability $\\delta$, it releases the whole dataset with no noise.\n",
    " \n",
    " The mechansim satisfies $(\\varepsilon,\\delta)$-DP, but shouldn't be used in practice. How much information Gaussian mechanism might release?"
   ]
  },
  {
   "cell_type": "markdown",
   "id": "5d13b7b6",
   "metadata": {
    "slideshow": {
     "slide_type": "fragment"
    }
   },
   "source": [
    " How much information Gaussian mechanism releases when fails? \n",
    "  \n",
    "  - With the $\\delta$ prob., Gaussian mechanism satisfies $c\\varepsilon$-DP for some value $c$.\n",
    "  - Gaussian mechanism fails gracefully (rather than catastrophically). "
   ]
  },
  {
   "cell_type": "markdown",
   "id": "5d52fe5e",
   "metadata": {
    "slideshow": {
     "slide_type": "slide"
    }
   },
   "source": [
    "## Advanced Composition"
   ]
  },
  {
   "cell_type": "markdown",
   "id": "6af7e682",
   "metadata": {
    "slideshow": {
     "slide_type": "subslide"
    }
   },
   "source": [
    "We can combine DP mechanism with sequential composition and parallel composition.\n",
    " - Sequential composition: If we ask multiple queries of the same dataset, then the privacy cost is adding up."
   ]
  },
  {
   "cell_type": "markdown",
   "id": "e430aa13",
   "metadata": {
    "slideshow": {
     "slide_type": "slide"
    }
   },
   "source": [
    " > ### Adaptive Composition\n",
    " > A$k$-fold adaptive compositiob is a sequence of mechanisms $m_1,\\dots,m_k$ suh that:\n",
    " > - Each mechanism $m_i$ may be chosen based on the outputs of all previous mechanisms $m_1,\\dots,m_{i-1}$ (hence adaptive)\n",
    " > - The input to each mechanism $m_i$ is both the private dataset and all of the outputs of previous mechanisms (hence composition)"
   ]
  },
  {
   "cell_type": "code",
   "execution_count": 14,
   "id": "146470db",
   "metadata": {
    "slideshow": {
     "slide_type": "subslide"
    }
   },
   "outputs": [
    {
     "data": {
      "text/plain": [
       "9.930081828336505"
      ]
     },
     "execution_count": 14,
     "metadata": {},
     "output_type": "execute_result"
    }
   ],
   "source": [
    "# works for sensitivity-1 queries\n",
    "def avg_attack(query, epsilon, k):\n",
    "    results = [query + np.random.laplace(loc=0, scale=1/epsilon) for i in range(k)]\n",
    "    return np.mean(results)\n",
    "\n",
    "avg_attack(10, 1, 500)"
   ]
  },
  {
   "cell_type": "markdown",
   "id": "2aa464de",
   "metadata": {
    "slideshow": {
     "slide_type": "fragment"
    }
   },
   "source": [
    " - The sequence of mechanism is fixed ahead of time\n",
    " - $k = 500$.\n",
    " - Privacy cost from standard sequential composition is $500\\varepsilon$ ($k\\varepsilon$).\n",
    " - Is this tight?    "
   ]
  },
  {
   "cell_type": "markdown",
   "id": "19ec9af8",
   "metadata": {
    "slideshow": {
     "slide_type": "slide"
    }
   },
   "source": [
    " > ### Theorem (Advanced Compostion)\n",
    " > - If each mechanism $M_i$ in a $k$-fold adaptive composition $M_1,\\dots,M_k$ satisfies $\\varepsilon$-DP, then for any $\\delta' \\ge 0$, the entire $k$-fold adaptive composition satisfies $(\\varepsilon',\\delta')$-DP, where $$\\varepsilon' = 2\\varepsilon\\sqrt{2k\\log(1/\\delta')}$$"
   ]
  },
  {
   "cell_type": "markdown",
   "id": "46817642",
   "metadata": {
    "slideshow": {
     "slide_type": "subslide"
    }
   },
   "source": [
    "### Comparision\n",
    "\n",
    " - With $\\varepsilon = 1$, $\\delta' = 10^{-5}$, we get $$\\varepsilon' = 2\\sqrt{1000 \\log(10^5)} \\approx 214.59.$$\n",
    " - So advanced composition derives a much lower bound on $\\varepsilon'$.\n",
    " - They are still not tight, just slightly less losse than the ones given by sequential composition."
   ]
  },
  {
   "cell_type": "markdown",
   "id": "b5fe40d5",
   "metadata": {
    "slideshow": {
     "slide_type": "subslide"
    }
   },
   "source": [
    " - The bounds are technically incomperables, since advanced composition introduce a $\\delta$.\n",
    " - Sequential composition can still give lower privacy cost based on the numver of queries."
   ]
  },
  {
   "cell_type": "code",
   "execution_count": 18,
   "id": "efd9dad1",
   "metadata": {
    "slideshow": {
     "slide_type": "subslide"
    }
   },
   "outputs": [
    {
     "data": {
      "image/png": "[encoded data removed]",
      "text/plain": [
       "<Figure size 600x300 with 1 Axes>"
      ]
     },
     "metadata": {},
     "output_type": "display_data"
    }
   ],
   "source": [
    "epsilon = 1\n",
    "delta = 1e-5\n",
    "\n",
    "def adv_comp(k):\n",
    "    return 2*epsilon*np.sqrt(2*k*np.log(1/delta))\n",
    "\n",
    "def seq_comp(k):\n",
    "    return k*epsilon\n",
    "\n",
    "plt.figure(figsize=(6,3))\n",
    "plt.plot([seq_comp(k) for k in range(100)], label='Sequential Composition')\n",
    "plt.plot([adv_comp(k) for k in range(100)], label='Advanced Composition')\n",
    "plt.legend();"
   ]
  },
  {
   "cell_type": "markdown",
   "id": "474cf8aa",
   "metadata": {
    "slideshow": {
     "slide_type": "subslide"
    }
   },
   "source": [
    " - Standard sequential composition beats advanced composition, if $2\\sqrt{2k \\log (1/\\delta')} > k$.\n",
    " - If $\\delta' = 1/10^5$, then $k > 92$. "
   ]
  },
  {
   "cell_type": "code",
   "execution_count": 16,
   "id": "add1e0cc",
   "metadata": {
    "slideshow": {
     "slide_type": "subslide"
    }
   },
   "outputs": [
    {
     "data": {
      "image/png": "[encoded data removed]",
      "text/plain": [
       "<Figure size 640x480 with 1 Axes>"
      ]
     },
     "metadata": {},
     "output_type": "display_data"
    }
   ],
   "source": [
    "plt.plot([seq_comp(k) for k in range(10000)], label='Sequential Composition')\n",
    "plt.plot([adv_comp(k) for k in range(10000)], label='Advanced Composition')\n",
    "plt.legend();"
   ]
  },
  {
   "cell_type": "markdown",
   "id": "2d250da7",
   "metadata": {
    "slideshow": {
     "slide_type": "slide"
    }
   },
   "source": [
    "### Advanced Composition for Approximate DP\n",
    "\n",
    " - The previous theorem for advanced composition works only for pure DP.\n",
    " - Thre is more general version for approximate DP.\n",
    " \n",
    " > ### Theorem (Approximate Advanced Composition)\n",
    " > If each mechanism $M_i$ in a $k$-fold adaptive composition $M_1,\\dots,M_k$ satisfies $(\\varepsilon,\\delta)$-DP, then for any $\\delta' \\ge 0$, the entire $k$-fold adaptive composition satisfies $(\\varepsilon',k\\delta + \\delta')$-DP, where $$\\varepsilon' = 2\\varepsilon\\sqrt{2k\\log(1/\\delta')}$$\n",
    " \n",
    " - The only difference is the additional $k\\delta$ term. If $\\delta = 0$, then the statement simplifies for the preious one."
   ]
  }
 ],
 "metadata": {
  "celltoolbar": "Slideshow",
  "kernelspec": {
   "display_name": "Python 3 (ipykernel)",
   "language": "python",
   "name": "python3"
  },
  "language_info": {
   "codemirror_mode": {
    "name": "ipython",
    "version": 3
   },
   "file_extension": ".py",
   "mimetype": "text/x-python",
   "name": "python",
   "nbconvert_exporter": "python",
   "pygments_lexer": "ipython3",
   "version": "3.12.4"
  }
 },
 "nbformat": 4,
 "nbformat_minor": 5
}
