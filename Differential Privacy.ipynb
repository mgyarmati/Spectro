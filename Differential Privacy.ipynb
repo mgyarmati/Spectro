{
 "cells": [
  {
   "cell_type": "markdown",
   "id": "6e16eb5c",
   "metadata": {
    "editable": true,
    "slideshow": {
     "slide_type": "slide"
    },
    "tags": []
   },
   "source": [
    "## Aggregation"
   ]
  },
  {
   "cell_type": "markdown",
   "id": "77d254ff",
   "metadata": {
    "editable": true,
    "slideshow": {
     "slide_type": "slide"
    },
    "tags": []
   },
   "source": [
    "### Motivation\n",
    "\n",
    " - Publish aggregate data (count, sum, mean, etc.)\n",
    " - It might be enough for applications\n",
    " - Release less information\n",
    " \n",
    " Is there any concern?"
   ]
  },
  {
   "cell_type": "markdown",
   "id": "f2e1a49b",
   "metadata": {
    "slideshow": {
     "slide_type": "subslide"
    }
   },
   "source": [
    "## Model\n",
    "\n",
    "**Curator:**\n",
    " - Has access to the data.\n",
    " - Runs the privacy mechanism (algorithm) to answer queries.\n",
    "\n",
    "**Data analyst:**\n",
    " - Receives the responses to queries.\n",
    " - Tries to squeeze out privacy-compromising information about individuals."
   ]
  },
  {
   "cell_type": "markdown",
   "id": "336c9377",
   "metadata": {
    "slideshow": {
     "slide_type": "subslide"
    }
   },
   "source": [
    "|           -        | Secure cryptosystem            | Private data analysis | \n",
    "|--------------------|--------------------------------|-----------------------|\n",
    "|Participants        | Sender, Receiver, Eavesdropper | Curator, Analyst      |\n",
    "|Owner of information| Sender                         | Curator               |\n",
    "|Sends information to| Receiver                       | Analyst               |\n",
    "|Protect against     | Eavesdropper                   | Analyst               |\n"
   ]
  },
  {
   "cell_type": "code",
   "execution_count": 1,
   "id": "e6bddd40",
   "metadata": {
    "slideshow": {
     "slide_type": "skip"
    }
   },
   "outputs": [],
   "source": [
    "import pandas as pd\n",
    "import numpy as np\n",
    "import matplotlib.pyplot as plt"
   ]
  },
  {
   "cell_type": "code",
   "execution_count": 2,
   "id": "7e32ea5f",
   "metadata": {
    "slideshow": {
     "slide_type": "slide"
    }
   },
   "outputs": [
    {
     "data": {
      "text/html": [
       "<div>\n",
       "<style scoped>\n",
       "    .dataframe tbody tr th:only-of-type {\n",
       "        vertical-align: middle;\n",
       "    }\n",
       "\n",
       "    .dataframe tbody tr th {\n",
       "        vertical-align: top;\n",
       "    }\n",
       "\n",
       "    .dataframe thead th {\n",
       "        text-align: right;\n",
       "    }\n",
       "</style>\n",
       "<table border=\"1\" class=\"dataframe\">\n",
       "  <thead>\n",
       "    <tr style=\"text-align: right;\">\n",
       "      <th></th>\n",
       "      <th>Name</th>\n",
       "      <th>First Name</th>\n",
       "      <th>Last Name</th>\n",
       "      <th>Sex</th>\n",
       "      <th>SSN</th>\n",
       "      <th>DOB</th>\n",
       "      <th>Birthday</th>\n",
       "      <th>Age</th>\n",
       "      <th>Zip</th>\n",
       "      <th>Education</th>\n",
       "      <th>Marital Status</th>\n",
       "      <th>Occupation</th>\n",
       "      <th>Salary</th>\n",
       "    </tr>\n",
       "  </thead>\n",
       "  <tbody>\n",
       "    <tr>\n",
       "      <th>0</th>\n",
       "      <td>Jason Ortiz</td>\n",
       "      <td>Jason</td>\n",
       "      <td>Ortiz</td>\n",
       "      <td>Male</td>\n",
       "      <td>239-62-5065</td>\n",
       "      <td>12/24/65</td>\n",
       "      <td>12/24</td>\n",
       "      <td>58</td>\n",
       "      <td>55813</td>\n",
       "      <td>Bachelors degree</td>\n",
       "      <td>Widowed</td>\n",
       "      <td>Engineer/ production</td>\n",
       "      <td>Under 25k</td>\n",
       "    </tr>\n",
       "    <tr>\n",
       "      <th>1</th>\n",
       "      <td>Anna Brown</td>\n",
       "      <td>Anna</td>\n",
       "      <td>Brown</td>\n",
       "      <td>Female</td>\n",
       "      <td>860-48-3325</td>\n",
       "      <td>03/21/99</td>\n",
       "      <td>03/21</td>\n",
       "      <td>25</td>\n",
       "      <td>25593</td>\n",
       "      <td>Bachelors degree</td>\n",
       "      <td>Never married</td>\n",
       "      <td>Systems developer</td>\n",
       "      <td>100k to 200k</td>\n",
       "    </tr>\n",
       "    <tr>\n",
       "      <th>2</th>\n",
       "      <td>Kevin Anderson</td>\n",
       "      <td>Kevin</td>\n",
       "      <td>Anderson</td>\n",
       "      <td>Male</td>\n",
       "      <td>176-24-2913</td>\n",
       "      <td>05/11/67</td>\n",
       "      <td>05/11</td>\n",
       "      <td>57</td>\n",
       "      <td>29066</td>\n",
       "      <td>No degree</td>\n",
       "      <td>Never married</td>\n",
       "      <td>Equities trader</td>\n",
       "      <td>50k to 100k</td>\n",
       "    </tr>\n",
       "    <tr>\n",
       "      <th>3</th>\n",
       "      <td>Patricia Clarke</td>\n",
       "      <td>Patricia</td>\n",
       "      <td>Clarke</td>\n",
       "      <td>Female</td>\n",
       "      <td>384-30-3488</td>\n",
       "      <td>12/23/76</td>\n",
       "      <td>12/23</td>\n",
       "      <td>47</td>\n",
       "      <td>81645</td>\n",
       "      <td>High school/GED</td>\n",
       "      <td>Divorce</td>\n",
       "      <td>Restaurant manager</td>\n",
       "      <td>50k to 100k</td>\n",
       "    </tr>\n",
       "    <tr>\n",
       "      <th>4</th>\n",
       "      <td>Robert Watson</td>\n",
       "      <td>Robert</td>\n",
       "      <td>Watson</td>\n",
       "      <td>Male</td>\n",
       "      <td>066-16-3817</td>\n",
       "      <td>04/08/01</td>\n",
       "      <td>04/08</td>\n",
       "      <td>23</td>\n",
       "      <td>27301</td>\n",
       "      <td>No degree</td>\n",
       "      <td>Married</td>\n",
       "      <td>Facilities manager</td>\n",
       "      <td>25k to 50k</td>\n",
       "    </tr>\n",
       "    <tr>\n",
       "      <th>5</th>\n",
       "      <td>Joseph Carrillo</td>\n",
       "      <td>Joseph</td>\n",
       "      <td>Carrillo</td>\n",
       "      <td>Male</td>\n",
       "      <td>426-75-3893</td>\n",
       "      <td>12/23/88</td>\n",
       "      <td>12/23</td>\n",
       "      <td>35</td>\n",
       "      <td>60983</td>\n",
       "      <td>Masters degree</td>\n",
       "      <td>Never married</td>\n",
       "      <td>Designer/ multimedia</td>\n",
       "      <td>100k to 200k</td>\n",
       "    </tr>\n",
       "    <tr>\n",
       "      <th>6</th>\n",
       "      <td>Molly Rodriguez</td>\n",
       "      <td>Molly</td>\n",
       "      <td>Rodriguez</td>\n",
       "      <td>Female</td>\n",
       "      <td>610-28-1657</td>\n",
       "      <td>07/24/88</td>\n",
       "      <td>07/24</td>\n",
       "      <td>36</td>\n",
       "      <td>83909</td>\n",
       "      <td>Bachelors degree</td>\n",
       "      <td>Married</td>\n",
       "      <td>Theatre director</td>\n",
       "      <td>Under 25k</td>\n",
       "    </tr>\n",
       "    <tr>\n",
       "      <th>7</th>\n",
       "      <td>Kenneth Smith</td>\n",
       "      <td>Kenneth</td>\n",
       "      <td>Smith</td>\n",
       "      <td>Male</td>\n",
       "      <td>521-01-8305</td>\n",
       "      <td>04/14/02</td>\n",
       "      <td>04/14</td>\n",
       "      <td>22</td>\n",
       "      <td>90525</td>\n",
       "      <td>High school/GED</td>\n",
       "      <td>Never married</td>\n",
       "      <td>Oceanographer</td>\n",
       "      <td>50k to 100k</td>\n",
       "    </tr>\n",
       "    <tr>\n",
       "      <th>8</th>\n",
       "      <td>Andrea Hale</td>\n",
       "      <td>Andrea</td>\n",
       "      <td>Hale</td>\n",
       "      <td>Female</td>\n",
       "      <td>586-74-2173</td>\n",
       "      <td>10/27/97</td>\n",
       "      <td>10/27</td>\n",
       "      <td>26</td>\n",
       "      <td>16072</td>\n",
       "      <td>Associate degree</td>\n",
       "      <td>Never married</td>\n",
       "      <td>Solicitor</td>\n",
       "      <td>50k to 100k</td>\n",
       "    </tr>\n",
       "    <tr>\n",
       "      <th>9</th>\n",
       "      <td>Tamara Reyes</td>\n",
       "      <td>Tamara</td>\n",
       "      <td>Reyes</td>\n",
       "      <td>Female</td>\n",
       "      <td>034-40-4605</td>\n",
       "      <td>11/04/93</td>\n",
       "      <td>11/04</td>\n",
       "      <td>30</td>\n",
       "      <td>17275</td>\n",
       "      <td>High school/GED</td>\n",
       "      <td>Married</td>\n",
       "      <td>Adult nurse</td>\n",
       "      <td>25k to 50k</td>\n",
       "    </tr>\n",
       "  </tbody>\n",
       "</table>\n",
       "</div>"
      ],
      "text/plain": [
       "              Name First Name  Last Name     Sex          SSN       DOB  \\\n",
       "0      Jason Ortiz      Jason      Ortiz    Male  239-62-5065  12/24/65   \n",
       "1       Anna Brown       Anna      Brown  Female  860-48-3325  03/21/99   \n",
       "2   Kevin Anderson      Kevin   Anderson    Male  176-24-2913  05/11/67   \n",
       "3  Patricia Clarke   Patricia     Clarke  Female  384-30-3488  12/23/76   \n",
       "4    Robert Watson     Robert     Watson    Male  066-16-3817  04/08/01   \n",
       "5  Joseph Carrillo     Joseph   Carrillo    Male  426-75-3893  12/23/88   \n",
       "6  Molly Rodriguez      Molly  Rodriguez  Female  610-28-1657  07/24/88   \n",
       "7    Kenneth Smith    Kenneth      Smith    Male  521-01-8305  04/14/02   \n",
       "8      Andrea Hale     Andrea       Hale  Female  586-74-2173  10/27/97   \n",
       "9     Tamara Reyes     Tamara      Reyes  Female  034-40-4605  11/04/93   \n",
       "\n",
       "  Birthday  Age    Zip         Education Marital Status            Occupation  \\\n",
       "0    12/24   58  55813  Bachelors degree        Widowed  Engineer/ production   \n",
       "1    03/21   25  25593  Bachelors degree  Never married     Systems developer   \n",
       "2    05/11   57  29066         No degree  Never married       Equities trader   \n",
       "3    12/23   47  81645   High school/GED        Divorce    Restaurant manager   \n",
       "4    04/08   23  27301         No degree        Married    Facilities manager   \n",
       "5    12/23   35  60983    Masters degree  Never married  Designer/ multimedia   \n",
       "6    07/24   36  83909  Bachelors degree        Married      Theatre director   \n",
       "7    04/14   22  90525   High school/GED  Never married         Oceanographer   \n",
       "8    10/27   26  16072  Associate degree  Never married             Solicitor   \n",
       "9    11/04   30  17275   High school/GED        Married           Adult nurse   \n",
       "\n",
       "         Salary  \n",
       "0     Under 25k  \n",
       "1  100k to 200k  \n",
       "2   50k to 100k  \n",
       "3   50k to 100k  \n",
       "4    25k to 50k  \n",
       "5  100k to 200k  \n",
       "6     Under 25k  \n",
       "7   50k to 100k  \n",
       "8   50k to 100k  \n",
       "9    25k to 50k  "
      ]
     },
     "execution_count": 2,
     "metadata": {},
     "output_type": "execute_result"
    }
   ],
   "source": [
    "adult = pd.read_csv(\"data.csv\")\n",
    "adult.head(10)"
   ]
  },
  {
   "cell_type": "markdown",
   "id": "d93260b7",
   "metadata": {
    "slideshow": {
     "slide_type": "slide"
    }
   },
   "source": [
    "We want to learn the average age of people with certain degrees. "
   ]
  },
  {
   "cell_type": "code",
   "execution_count": 3,
   "id": "4ea705ff",
   "metadata": {
    "slideshow": {
     "slide_type": "-"
    }
   },
   "outputs": [
    {
     "data": {
      "text/html": [
       "<div>\n",
       "<style scoped>\n",
       "    .dataframe tbody tr th:only-of-type {\n",
       "        vertical-align: middle;\n",
       "    }\n",
       "\n",
       "    .dataframe tbody tr th {\n",
       "        vertical-align: top;\n",
       "    }\n",
       "\n",
       "    .dataframe thead th {\n",
       "        text-align: right;\n",
       "    }\n",
       "</style>\n",
       "<table border=\"1\" class=\"dataframe\">\n",
       "  <thead>\n",
       "    <tr style=\"text-align: right;\">\n",
       "      <th></th>\n",
       "      <th>Education</th>\n",
       "      <th>Age</th>\n",
       "    </tr>\n",
       "  </thead>\n",
       "  <tbody>\n",
       "    <tr>\n",
       "      <th>0</th>\n",
       "      <td>Associate degree</td>\n",
       "      <td>41.234208</td>\n",
       "    </tr>\n",
       "    <tr>\n",
       "      <th>1</th>\n",
       "      <td>Bachelors degree</td>\n",
       "      <td>40.830297</td>\n",
       "    </tr>\n",
       "    <tr>\n",
       "      <th>2</th>\n",
       "      <td>Doctorate</td>\n",
       "      <td>41.073491</td>\n",
       "    </tr>\n",
       "    <tr>\n",
       "      <th>3</th>\n",
       "      <td>High school/GED</td>\n",
       "      <td>41.046953</td>\n",
       "    </tr>\n",
       "    <tr>\n",
       "      <th>4</th>\n",
       "      <td>Masters degree</td>\n",
       "      <td>41.228198</td>\n",
       "    </tr>\n",
       "  </tbody>\n",
       "</table>\n",
       "</div>"
      ],
      "text/plain": [
       "          Education        Age\n",
       "0  Associate degree  41.234208\n",
       "1  Bachelors degree  40.830297\n",
       "2         Doctorate  41.073491\n",
       "3   High school/GED  41.046953\n",
       "4    Masters degree  41.228198"
      ]
     },
     "execution_count": 3,
     "metadata": {},
     "output_type": "execute_result"
    }
   ],
   "source": [
    "adult[['Education','Age']].groupby('Education', as_index = False).mean().head()"
   ]
  },
  {
   "cell_type": "markdown",
   "id": "5c34b966",
   "metadata": {
    "slideshow": {
     "slide_type": "fragment"
    }
   },
   "source": [
    "If aggregated over a large group, it hides single values."
   ]
  },
  {
   "cell_type": "markdown",
   "id": "21cf688b",
   "metadata": {
    "slideshow": {
     "slide_type": "subslide"
    }
   },
   "source": [
    "If aggregated over a group of one person, it reveals the exact age!"
   ]
  },
  {
   "cell_type": "code",
   "execution_count": 4,
   "id": "67942dae",
   "metadata": {},
   "outputs": [
    {
     "data": {
      "text/html": [
       "<div>\n",
       "<style scoped>\n",
       "    .dataframe tbody tr th:only-of-type {\n",
       "        vertical-align: middle;\n",
       "    }\n",
       "\n",
       "    .dataframe tbody tr th {\n",
       "        vertical-align: top;\n",
       "    }\n",
       "\n",
       "    .dataframe thead th {\n",
       "        text-align: right;\n",
       "    }\n",
       "</style>\n",
       "<table border=\"1\" class=\"dataframe\">\n",
       "  <thead>\n",
       "    <tr style=\"text-align: right;\">\n",
       "      <th></th>\n",
       "      <th>Zip</th>\n",
       "      <th>Age</th>\n",
       "    </tr>\n",
       "  </thead>\n",
       "  <tbody>\n",
       "    <tr>\n",
       "      <th>0</th>\n",
       "      <td>506</td>\n",
       "      <td>36.0</td>\n",
       "    </tr>\n",
       "    <tr>\n",
       "      <th>1</th>\n",
       "      <td>509</td>\n",
       "      <td>53.0</td>\n",
       "    </tr>\n",
       "    <tr>\n",
       "      <th>2</th>\n",
       "      <td>519</td>\n",
       "      <td>33.0</td>\n",
       "    </tr>\n",
       "    <tr>\n",
       "      <th>3</th>\n",
       "      <td>527</td>\n",
       "      <td>56.0</td>\n",
       "    </tr>\n",
       "    <tr>\n",
       "      <th>4</th>\n",
       "      <td>536</td>\n",
       "      <td>56.0</td>\n",
       "    </tr>\n",
       "  </tbody>\n",
       "</table>\n",
       "</div>"
      ],
      "text/plain": [
       "   Zip   Age\n",
       "0  506  36.0\n",
       "1  509  53.0\n",
       "2  519  33.0\n",
       "3  527  56.0\n",
       "4  536  56.0"
      ]
     },
     "execution_count": 4,
     "metadata": {},
     "output_type": "execute_result"
    }
   ],
   "source": [
    "adult[['Zip', 'Age']].groupby('Zip', as_index=False).mean().head()"
   ]
  },
  {
   "cell_type": "markdown",
   "id": "267351b5",
   "metadata": {
    "slideshow": {
     "slide_type": "subslide"
    }
   },
   "source": [
    " - The US Census Bureau releases aggregate statistics at the block level.\n",
    " - Some blocks have a large population\n",
    " - Some blocks have a population of zero.\n",
    " - Aggregate data for blocks with a small population might reveal sensitive information."
   ]
  },
  {
   "cell_type": "markdown",
   "id": "2de70cc8",
   "metadata": {
    "slideshow": {
     "slide_type": "slide"
    }
   },
   "source": [
    "### How big a group should be?\n",
    "\n",
    " - No real answer!\n",
    " - Depends on the data\n",
    " - Depends on the attack"
   ]
  },
  {
   "cell_type": "markdown",
   "id": "acb52796",
   "metadata": {
    "jp-MarkdownHeadingCollapsed": true,
    "slideshow": {
     "slide_type": "slide"
    }
   },
   "source": [
    "## Differencing Attacks"
   ]
  },
  {
   "cell_type": "markdown",
   "id": "0a7741c8",
   "metadata": {
    "slideshow": {
     "slide_type": "slide"
    }
   },
   "source": [
    "**Problem: Release of multiple aggregate statistics.**"
   ]
  },
  {
   "cell_type": "markdown",
   "id": "450f41a9",
   "metadata": {
    "slideshow": {
     "slide_type": "fragment"
    }
   },
   "source": [
    "Consider the two following summation queries."
   ]
  },
  {
   "cell_type": "code",
   "execution_count": 5,
   "id": "90548838",
   "metadata": {
    "slideshow": {
     "slide_type": "-"
    }
   },
   "outputs": [
    {
     "data": {
      "text/plain": [
       "820400"
      ]
     },
     "execution_count": 5,
     "metadata": {},
     "output_type": "execute_result"
    }
   ],
   "source": [
    "adult['Age'].sum()"
   ]
  },
  {
   "cell_type": "code",
   "execution_count": 6,
   "id": "69b16f74",
   "metadata": {
    "slideshow": {
     "slide_type": "-"
    }
   },
   "outputs": [
    {
     "data": {
      "text/plain": [
       "820375"
      ]
     },
     "execution_count": 6,
     "metadata": {},
     "output_type": "execute_result"
    }
   ],
   "source": [
    "adult[adult['Name'] != 'Anna Brown']['Age'].sum()"
   ]
  },
  {
   "cell_type": "code",
   "execution_count": 7,
   "id": "e6a0516c",
   "metadata": {
    "slideshow": {
     "slide_type": "fragment"
    }
   },
   "outputs": [
    {
     "data": {
      "text/plain": [
       "25"
      ]
     },
     "execution_count": 7,
     "metadata": {},
     "output_type": "execute_result"
    }
   ],
   "source": [
    "adult['Age'].sum() - adult[adult['Name'] != 'Anna Brown']['Age'].sum()"
   ]
  },
  {
   "cell_type": "markdown",
   "id": "672caa3d",
   "metadata": {
    "slideshow": {
     "slide_type": "subslide"
    }
   },
   "source": [
    "The same problem arise if we ask *How many people in the database have salary in the range 100k to 200k?*"
   ]
  },
  {
   "cell_type": "markdown",
   "id": "b5887bef",
   "metadata": {
    "slideshow": {
     "slide_type": "fragment"
    }
   },
   "source": [
    "### What have we learned?\n",
    "\n",
    "- The security of aggregate data depends on previously released information.\n",
    "- Releasing useful data makes ensuring privacy very difficult.\n",
    "- Distinguishing between malicious and non-malicious queries is not possible.\n"
   ]
  },
  {
   "cell_type": "markdown",
   "id": "bb6c8350",
   "metadata": {
    "slideshow": {
     "slide_type": "slide"
    }
   },
   "source": [
    "## Differential Privacy"
   ]
  },
  {
   "cell_type": "markdown",
   "id": "b67b8b9d",
   "metadata": {
    "slideshow": {
     "slide_type": "slide"
    }
   },
   "source": [
    "### Differential Privacy\n",
    "\n",
    " - It is a mathematical definition\n",
    " - Property of an algorithm (a query)\n",
    " - A dataset is differentially private if the algorithm that produced it satisfies differential privacy."
   ]
  },
  {
   "cell_type": "markdown",
   "id": "376d3742",
   "metadata": {
    "slideshow": {
     "slide_type": "slide"
    }
   },
   "source": [
    "### Informal definition\n",
    "\n",
    "An algorithm is differentially private if, by looking at the output, one cannot tell whether any individual's data was included in the original dataset or not.\n",
    "\n",
    "The analyst knows no more about any individual in the data after the analysis is completed than she knew before the analysis was begun."
   ]
  },
  {
   "cell_type": "markdown",
   "id": "df377786",
   "metadata": {
    "slideshow": {
     "slide_type": "slide"
    }
   },
   "source": [
    "### Neighboring dataset\n",
    "\n",
    "Let $d(D, D')$ denote the distance of $D$ and $D'$ that is the number of rows that $D$ and $D'$ differ. If, $d(D,D') \\le 1$, then  $D$ and $D'$ are neighboring datasets.\n",
    "\n",
    "Two dataset are neighboring if they differ in  the data of a single individual. E.g. if we remove or change the data of an individual, the result is a dataset that is neighboring to the original.\n",
    "\n",
    "Distance is sometimes defined by the difference in attributes/columns. Two datasets are neighboring if they differ in one attribute of a single individual. \n",
    "\n",
    "If there is only one attribute, the two definitions are the same."
   ]
  },
  {
   "cell_type": "markdown",
   "id": "037173ac",
   "metadata": {
    "slideshow": {
     "slide_type": "slide"
    }
   },
   "source": [
    "### Definition\n",
    "\n",
    " > A randomized algorithm $M$ is $\\varepsilon$-differentially private if for all neighboring dataset $D$ and $D'$ and all possible sets of output $S$, $$\\frac{\\Pr[M(D) \\in S]}{\\Pr[M(D') \\in S]} \\le e^\\varepsilon $$\n",
    " \n",
    " The algorithm produces a different output for neighboring datasets with only a small probability.\n",
    " "
   ]
  },
  {
   "cell_type": "markdown",
   "id": "27fe6f7b",
   "metadata": {
    "slideshow": {
     "slide_type": "subslide"
    }
   },
   "source": [
    "### The parameter $\\varepsilon$\n",
    "\n",
    " - $\\varepsilon$ is the privacy parameter/privacy budget. It tunes the amount of privacy the definition provides.\n",
    "      - Small $\\varepsilon \\Rightarrow$ more privacy.\n",
    "      - Large $\\varepsilon \\Rightarrow$ less privacy."
   ]
  },
  {
   "cell_type": "markdown",
   "id": "6ac70fb7",
   "metadata": {
    "slideshow": {
     "slide_type": "subslide"
    }
   },
   "source": [
    "### Discrete Distributions\n",
    "\n",
    "> Suppose the range (output) of $M$ is a discrete (finite) set (e.g., integers, 32-bit floating-point numbers, marital status, etc.), In that case, the definition can consider $S$ to be a single value (e.g., 37, married, etc.). Then we can write $M(D) = S$ instead of $M(D) \\in S$ the inequality:\n",
    "$$ \\frac{\\Pr[M(D) = S]}{\\Pr[M(D') = S]} \\le e^\\varepsilon $$"
   ]
  },
  {
   "cell_type": "markdown",
   "id": "8bfab9c8",
   "metadata": {
    "slideshow": {
     "slide_type": "slide"
    }
   },
   "source": [
    "### How do we acheive differential privacy?"
   ]
  },
  {
   "cell_type": "markdown",
   "id": "4d7d6298",
   "metadata": {
    "slideshow": {
     "slide_type": "fragment"
    }
   },
   "source": [
    " - Add noise to the outcome of the algorithm.\n",
    " - Randomize response - lie about the answer with some probability"
   ]
  },
  {
   "cell_type": "markdown",
   "id": "b4eccac7",
   "metadata": {
    "slideshow": {
     "slide_type": "slide"
    }
   },
   "source": [
    "## Laplace mechanism"
   ]
  },
  {
   "cell_type": "markdown",
   "id": "d4985e2f",
   "metadata": {
    "slideshow": {
     "slide_type": "slide"
    }
   },
   "source": [
    "### Laplace distribution\n",
    "\n",
    "Properties:\n",
    " - *double exponential* distribution\n",
    " - Laplace distribution has two parameters\n",
    " - $\\mu$: mean (or location), $b > 0$: scale (or diversity)\n",
    " - If $\\mu=0$ and $b=1$, the positive half-line is exactly an exponential distribution scaled by 1/2.\n",
    " \n",
    "$Lap(t)$ denotes sampling from the Laplace distribution with *location/mean = 0* and *scale t*."
   ]
  },
  {
   "cell_type": "code",
   "execution_count": 8,
   "id": "cef17d5c",
   "metadata": {
    "slideshow": {
     "slide_type": "subslide"
    }
   },
   "outputs": [
    {
     "data": {
      "image/png": "[encoded data removed]",
      "text/plain": [
       "<Figure size 640x480 with 1 Axes>"
      ]
     },
     "metadata": {},
     "output_type": "display_data"
    }
   ],
   "source": [
    "# Step 1: Parameters: loc is the location parameter (mean), scale is the scale parameter (variance)\n",
    "mean = [0, 2, 0, 0]    # mean (location)\n",
    "scale = [1, 3, 2, 4]   # scale (diversity)\n",
    "color = ['r', 'g', 'b', 'k']\n",
    "\n",
    "# Step 2: Plot the Laplace distribution\n",
    "x = np.linspace(-10, 10, 100)\n",
    "for i in range(4):\n",
    "    pdf = (1/(2*scale[i])) * np.exp(-np.abs(x-mean[i])/scale[i])\n",
    "    plt.plot(x, pdf, color[i], label = [mean[i], scale[i]], linewidth=2)\n",
    "\n",
    "plt.title('Probability density function of Laplace Distribution')\n",
    "plt.xlabel('Value')\n",
    "plt.ylabel('Density')\n",
    "plt.legend()\n",
    "plt.show()"
   ]
  },
  {
   "cell_type": "code",
   "execution_count": 9,
   "id": "bb6b26f6",
   "metadata": {
    "scrolled": true
   },
   "outputs": [
    {
     "data": {
      "image/png": "[encoded data removed]",
      "text/plain": [
       "<Figure size 640x480 with 1 Axes>"
      ]
     },
     "metadata": {},
     "output_type": "display_data"
    }
   ],
   "source": [
    "# Step 1: Generate random samples from a Laplace distribution\n",
    "# Parameters: loc is the location parameter (mean), scale is the scale parameter (variance)\n",
    "mean = 0    # mean (location)\n",
    "scale = 1   # scale (diversity)\n",
    "\n",
    "# Generate 10000 random samples from the Laplace distribution\n",
    "data = np.random.laplace(loc=mean, scale=scale, size=10000)\n",
    "\n",
    "# Step 2: Plot the histogram\n",
    "plt.hist(data, bins=50, density=True, color='r')\n",
    "\n",
    "plt.title('Histogram of Laplace Distribution')\n",
    "plt.xlabel('Value')\n",
    "plt.ylabel('Density')\n",
    "plt.show()"
   ]
  },
  {
   "cell_type": "markdown",
   "id": "e9171cb1",
   "metadata": {
    "slideshow": {
     "slide_type": "slide"
    }
   },
   "source": [
    "### Sensitivity\n",
    "\n",
    " - The amount of the function's output can change if the input changes.\n",
    " - Let $f: \\mathcal{D} \\rightarrow \\mathbb{R}$ be a function. Then $$S(f) = \\max_{x,x':d(x),d(x')\\le 1} |f(x) - f(x')|$$\n",
    " - If $f$ is a count query, then $S(f) = 1$.\n",
    " - If $f$ is the age sum query, then $S(f)$ is the maximal possible age of an individual.\n",
    " - It is often challenging to compute the sensitivity. We will discuss this later."
   ]
  },
  {
   "cell_type": "markdown",
   "id": "f5447974",
   "metadata": {
    "slideshow": {
     "slide_type": "slide"
    }
   },
   "source": [
    "### Laplace mechanism\n",
    "\n",
    "Let $f$ be a function that returns a number. Defy $M$ the following way: $$ M(x) = f(x) + Lap\\left(\\frac{S(f)}{\\varepsilon}\\right).$$\n",
    "\n",
    "If $f$ is a count query, then $$ M(x) = f(x) + Lap\\left(\\frac{1}{\\varepsilon}\\right).$$\n",
    "\n",
    "> **Theorem:** The Laplace mechanism preserves $\\varepsilon$-differential privacy."
   ]
  },
  {
   "cell_type": "markdown",
   "id": "b4180382",
   "metadata": {
    "slideshow": {
     "slide_type": "slide"
    }
   },
   "source": [
    "### Example\n",
    "\n",
    "We want to know the number of individuals with age at least 40."
   ]
  },
  {
   "cell_type": "code",
   "execution_count": 10,
   "id": "eb3f0f94",
   "metadata": {
    "slideshow": {
     "slide_type": "fragment"
    }
   },
   "outputs": [
    {
     "data": {
      "text/plain": [
       "10650"
      ]
     },
     "execution_count": 10,
     "metadata": {},
     "output_type": "execute_result"
    }
   ],
   "source": [
    "adult[adult['Age'] >= 40].shape[0]"
   ]
  },
  {
   "cell_type": "code",
   "execution_count": 11,
   "id": "39ee78a7",
   "metadata": {
    "slideshow": {
     "slide_type": "fragment"
    }
   },
   "outputs": [
    {
     "data": {
      "text/plain": [
       "10666.514921166465"
      ]
     },
     "execution_count": 11,
     "metadata": {},
     "output_type": "execute_result"
    }
   ],
   "source": [
    "sensitivity = 1\n",
    "epsilon = 0.1\n",
    "\n",
    "adult[adult['Age'] >= 40].shape[0] + np.random.laplace(loc=0, scale=sensitivity/epsilon)"
   ]
  },
  {
   "cell_type": "markdown",
   "id": "e1a36028",
   "metadata": {
    "slideshow": {
     "slide_type": "slide"
    }
   },
   "source": [
    "### Example 2\n",
    "\n",
    "We test Laplace-mechanism for a query that would result in 1."
   ]
  },
  {
   "cell_type": "code",
   "execution_count": 12,
   "id": "34e1be58",
   "metadata": {
    "slideshow": {
     "slide_type": "fragment"
    }
   },
   "outputs": [
    {
     "data": {
      "text/plain": [
       "1"
      ]
     },
     "execution_count": 12,
     "metadata": {},
     "output_type": "execute_result"
    }
   ],
   "source": [
    "jasons_row = adult[adult['Name'] == 'Jason Ortiz']\n",
    "jasons_row[jasons_row['Salary'] == 'Under 25k'].shape[0]"
   ]
  },
  {
   "cell_type": "code",
   "execution_count": 13,
   "id": "9bacc42b",
   "metadata": {
    "slideshow": {
     "slide_type": "fragment"
    }
   },
   "outputs": [
    {
     "data": {
      "text/plain": [
       "-5.258509093961954"
      ]
     },
     "execution_count": 13,
     "metadata": {},
     "output_type": "execute_result"
    }
   ],
   "source": [
    "sensitivity = 1\n",
    "epsilon = 0.1\n",
    "\n",
    "jasons_row = adult[adult['Name'] == 'Jason Ortiz']\n",
    "jasons_row[jasons_row['Salary'] == 'Under 25k'].shape[0] + np.random.laplace(loc=0, scale=sensitivity/epsilon)"
   ]
  },
  {
   "cell_type": "markdown",
   "id": "1be77b79",
   "metadata": {
    "slideshow": {
     "slide_type": "subslide"
    }
   },
   "source": [
    "Let's experiment with different values of $\\varepsilon$!"
   ]
  },
  {
   "cell_type": "code",
   "execution_count": 14,
   "id": "34cce81a",
   "metadata": {},
   "outputs": [
    {
     "data": {
      "text/plain": [
       "-0.8439894111609434"
      ]
     },
     "execution_count": 14,
     "metadata": {},
     "output_type": "execute_result"
    }
   ],
   "source": [
    "epsilon = 0.1\n",
    "jasons_row[jasons_row['Salary'] == 'Under 25k'].shape[0] + np.random.laplace(loc=0, scale=sensitivity/epsilon)"
   ]
  },
  {
   "cell_type": "code",
   "execution_count": 15,
   "id": "7afc7447",
   "metadata": {
    "slideshow": {
     "slide_type": "fragment"
    }
   },
   "outputs": [
    {
     "data": {
      "text/plain": [
       "1.7660936308780553"
      ]
     },
     "execution_count": 15,
     "metadata": {},
     "output_type": "execute_result"
    }
   ],
   "source": [
    "epsilon = 1\n",
    "jasons_row[jasons_row['Salary'] == 'Under 25k'].shape[0] + np.random.laplace(loc=0, scale=sensitivity/epsilon)"
   ]
  },
  {
   "cell_type": "code",
   "execution_count": 16,
   "id": "57151aaf",
   "metadata": {
    "slideshow": {
     "slide_type": "fragment"
    }
   },
   "outputs": [
    {
     "data": {
      "text/plain": [
       "1.0640655005197452"
      ]
     },
     "execution_count": 16,
     "metadata": {},
     "output_type": "execute_result"
    }
   ],
   "source": [
    "epsilon = 10\n",
    "jasons_row[jasons_row['Salary'] == 'Under 25k'].shape[0] + np.random.laplace(loc=0, scale=sensitivity/epsilon)"
   ]
  },
  {
   "cell_type": "code",
   "execution_count": 17,
   "id": "7f517bbf",
   "metadata": {
    "slideshow": {
     "slide_type": "fragment"
    }
   },
   "outputs": [
    {
     "data": {
      "text/plain": [
       "0.9680438314466733"
      ]
     },
     "execution_count": 17,
     "metadata": {},
     "output_type": "execute_result"
    }
   ],
   "source": [
    "epsilon = 100\n",
    "jasons_row[jasons_row['Salary'] == 'Under 25k'].shape[0] + np.random.laplace(loc=0, scale=sensitivity/epsilon)"
   ]
  },
  {
   "cell_type": "markdown",
   "id": "3bb63ebc",
   "metadata": {
    "slideshow": {
     "slide_type": "slide"
    }
   },
   "source": [
    "Summary:\n",
    " - Differential privacy can protect individuals in a dataset.   \n",
    " - Laplace mechanism can provide DP.\n",
    " - The level of privacy depends on the parameter $\\varepsilon$.\n",
    " - Small values of $\\varepsilon$ provide more privacy but have less accuracy.\n",
    " - Large values of $\\varepsilon$ provide less privacy but are more accurate."
   ]
  },
  {
   "cell_type": "markdown",
   "id": "50c93a88",
   "metadata": {
    "slideshow": {
     "slide_type": "slide"
    }
   },
   "source": [
    "## Compositions of DP"
   ]
  },
  {
   "cell_type": "markdown",
   "id": "8e22db63",
   "metadata": {
    "slideshow": {
     "slide_type": "slide"
    }
   },
   "source": [
    "### Sequential Composition\n",
    "\n",
    "We saw that releasing multiple queries of the same data violates privacy for aggregations. Does DP provide privacy?"
   ]
  },
  {
   "cell_type": "markdown",
   "id": "2350df7a",
   "metadata": {
    "slideshow": {
     "slide_type": "fragment"
    }
   },
   "source": [
    "> Theorem (Sequential Composition):\n",
    ">    - $M_1$ and $M_2$ are two mechanisms.\n",
    ">    - If $M_1$ satisfies $\\varepsilon_1$-differential privacy, and $M_2$ satisfies $\\varepsilon_2$-differential privacy, then the mechanism $M = (M_1,M_2)$ which releases both results, satisfies $\\varepsilon_1 + \\varepsilon_2$-differential privacy."
   ]
  },
  {
   "cell_type": "markdown",
   "id": "f3c2f4af",
   "metadata": {
    "slideshow": {
     "slide_type": "subslide"
    }
   },
   "source": [
    " - We can ask for queries from the same dataset multiple times. The result is still DP but with a larger $\\varepsilon$ (less private).\n",
    " - The given privacy budget is upper bound so that the actual privacy cost may be smaller."
   ]
  },
  {
   "cell_type": "markdown",
   "id": "73177da9",
   "metadata": {
    "slideshow": {
     "slide_type": "slide"
    }
   },
   "source": [
    "Let's try the differencing attack! With the choice $\\varepsilon = 0.5$, the final result satisfies 1-DP. "
   ]
  },
  {
   "cell_type": "code",
   "execution_count": 18,
   "id": "d47cadd4",
   "metadata": {
    "slideshow": {
     "slide_type": "-"
    }
   },
   "outputs": [
    {
     "data": {
      "text/plain": [
       "5.009693883507767"
      ]
     },
     "execution_count": 18,
     "metadata": {},
     "output_type": "execute_result"
    }
   ],
   "source": [
    "epsilon = 0.5\n",
    "numb1 = adult[adult['Salary'] == 'Under 25'].shape[0] + np.random.laplace(loc=0, scale=1/epsilon)\n",
    "adult_no_jason = adult[adult['Name'] != 'Jason Ortiz']\n",
    "numb2 = adult_no_jason[adult_no_jason['Salary'] == 'Under 25'].shape[0] + np.random.laplace(loc=0, scale=1/epsilon)\n",
    "numb1 - numb2"
   ]
  },
  {
   "cell_type": "markdown",
   "id": "5e14c282",
   "metadata": {
    "slideshow": {
     "slide_type": "slide"
    }
   },
   "source": [
    "Let's compare the privacy cost of the noises that we add to the query. "
   ]
  },
  {
   "cell_type": "code",
   "execution_count": 19,
   "id": "bdf975c8",
   "metadata": {
    "slideshow": {
     "slide_type": "subslide"
    }
   },
   "outputs": [],
   "source": [
    "epsilon1 = 1\n",
    "epsilon2 = 1\n",
    "epsilon_total = 2\n",
    "\n",
    "# satisfies 1-differential privacy\n",
    "def F1():\n",
    "    return np.random.laplace(loc=0, scale=1/epsilon1)\n",
    "\n",
    "# satisfies 1-differential privacy\n",
    "def F2():\n",
    "    return np.random.laplace(loc=0, scale=1/epsilon2)\n",
    "\n",
    "# satisfies 2-differential privacy\n",
    "def F3():\n",
    "    return np.random.laplace(loc=0, scale=1/epsilon_total)\n",
    "\n",
    "# satisfies 2-differential privacy, by sequential composition\n",
    "def F_combined():\n",
    "    return (F1() + F2()) / 2"
   ]
  },
  {
   "cell_type": "markdown",
   "id": "7c3c374d",
   "metadata": {
    "slideshow": {
     "slide_type": "subslide"
    }
   },
   "source": [
    "The graph F1 and F2 looks pretty similar, because they are generated by the same distribution."
   ]
  },
  {
   "cell_type": "code",
   "execution_count": 20,
   "id": "05d6ac90",
   "metadata": {
    "slideshow": {
     "slide_type": "-"
    }
   },
   "outputs": [
    {
     "data": {
      "image/png": "[encoded data removed]",
      "text/plain": [
       "<Figure size 640x480 with 1 Axes>"
      ]
     },
     "metadata": {},
     "output_type": "display_data"
    }
   ],
   "source": [
    "# plot F1\n",
    "plt.hist([F1() for i in range(2000)], bins=100, label='F1', density = True);\n",
    "\n",
    "# plot F2 (should look the same)\n",
    "plt.hist([F2() for i in range(2000)], bins=100, alpha=.7, label='F2', density = True);\n",
    "plt.legend();"
   ]
  },
  {
   "cell_type": "markdown",
   "id": "a4932f86",
   "metadata": {
    "slideshow": {
     "slide_type": "subslide"
    }
   },
   "source": [
    "The graph **F3** looks *pointier*. It is not a surprise, as the scale is smaller. Therefore **F3** provide less privacy than **F1**, which is exactly what we were expecting from a higher value of $\\varepsilon$. "
   ]
  },
  {
   "cell_type": "code",
   "execution_count": 21,
   "id": "c24a88ea",
   "metadata": {},
   "outputs": [
    {
     "data": {
      "image/png": "[encoded data removed]",
      "text/plain": [
       "<Figure size 640x480 with 1 Axes>"
      ]
     },
     "metadata": {},
     "output_type": "display_data"
    }
   ],
   "source": [
    "# plot F1\n",
    "plt.hist([F1() for i in range(2000)], bins=100, label='F1', density = True);\n",
    "\n",
    "# plot F3 (should look \"pointier\")\n",
    "plt.hist([F3() for i in range(2000)], bins=50, alpha=.7, label='F3', density = True);\n",
    "plt.legend();"
   ]
  },
  {
   "cell_type": "markdown",
   "id": "1b93e732",
   "metadata": {
    "slideshow": {
     "slide_type": "subslide"
    }
   },
   "source": [
    "The graph **F_combined** is a little bit *pointier*, therefore it provide less privacy than **F_1**. This is coincide with our expectation."
   ]
  },
  {
   "cell_type": "code",
   "execution_count": 22,
   "id": "db793ece",
   "metadata": {},
   "outputs": [
    {
     "data": {
      "image/png": "[encoded data removed]",
      "text/plain": [
       "<Figure size 640x480 with 1 Axes>"
      ]
     },
     "metadata": {},
     "output_type": "display_data"
    }
   ],
   "source": [
    "# plot F1\n",
    "plt.hist([F1() for i in range(2000)], bins=100, label='F1', density = True);\n",
    "\n",
    "# plot F_combined (should look \"pointier\")\n",
    "plt.hist([F_combined() for i in range(2000)], bins=100, alpha=.7, label='F_combined', density = True);\n",
    "plt.legend();\n"
   ]
  },
  {
   "cell_type": "markdown",
   "id": "6baba78d",
   "metadata": {
    "slideshow": {
     "slide_type": "subslide"
    }
   },
   "source": [
    "The graph **F3** is *pointier*, therefore it provides less privacy. The privacy budget for both **F3** and **F_combined** is 2, so why is there a difference? The reason that the 2 is an upper bound for the privacy cost for **F_combined**, the actual cumulative impact on privacy is lower.  "
   ]
  },
  {
   "cell_type": "code",
   "execution_count": 23,
   "id": "374c963b",
   "metadata": {
    "slideshow": {
     "slide_type": "-"
    }
   },
   "outputs": [
    {
     "data": {
      "image/png": "[encoded data removed]",
      "text/plain": [
       "<Figure size 640x480 with 1 Axes>"
      ]
     },
     "metadata": {},
     "output_type": "display_data"
    }
   ],
   "source": [
    "# plot F1\n",
    "plt.hist([F3() for i in range(2000)], bins=100, label='F3', density = True);\n",
    "\n",
    "# plot F_combined (should look \"pointier\")\n",
    "plt.hist([F_combined() for i in range(2000)], bins=100, alpha=.7, label='F_combined', density = True);\n",
    "plt.legend();"
   ]
  }
 ],
 "metadata": {
  "celltoolbar": "Slideshow",
  "kernelspec": {
   "display_name": "Python 3 (ipykernel)",
   "language": "python",
   "name": "python3"
  },
  "language_info": {
   "codemirror_mode": {
    "name": "ipython",
    "version": 3
   },
   "file_extension": ".py",
   "mimetype": "text/x-python",
   "name": "python",
   "nbconvert_exporter": "python",
   "pygments_lexer": "ipython3",
   "version": "3.12.4"
  }
 },
 "nbformat": 4,
 "nbformat_minor": 5
}
