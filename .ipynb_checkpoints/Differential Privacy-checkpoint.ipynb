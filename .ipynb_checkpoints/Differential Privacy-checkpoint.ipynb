{
 "cells": [
  {
   "cell_type": "markdown",
   "id": "bb6c8350",
   "metadata": {
    "slideshow": {
     "slide_type": "slide"
    }
   },
   "source": [
    "## Differential Privacy"
   ]
  },
  {
   "cell_type": "markdown",
   "id": "b67b8b9d",
   "metadata": {
    "jp-MarkdownHeadingCollapsed": true,
    "slideshow": {
     "slide_type": "slide"
    }
   },
   "source": [
    "### Differential Privacy\n",
    "\n",
    " - It is a mathematical definition\n",
    " - Property of an algorithm (a query)\n",
    " - A dataset is differentially private if the algorithm that produced it satisfies differential privacy."
   ]
  },
  {
   "cell_type": "markdown",
   "id": "376d3742",
   "metadata": {
    "jp-MarkdownHeadingCollapsed": true,
    "slideshow": {
     "slide_type": "slide"
    }
   },
   "source": [
    "### Informal definition\n",
    "\n",
    "An algorithm is differentially private if, by looking at the output, one cannot tell whether any individual's data was included in the original dataset or not.\n",
    "\n",
    "The analyst knows no more about any individual in the data after the analysis is completed than she knew before the analysis was begun."
   ]
  },
  {
   "cell_type": "markdown",
   "id": "df377786",
   "metadata": {
    "slideshow": {
     "slide_type": "slide"
    }
   },
   "source": [
    "### Neighboring dataset\n",
    "\n",
    "Let $d(D, D')$ denote the distance of $D$ and $D'$ that is the number of rows that $D$ and $D'$ differ. If, $d(D,D') \\le 1$, then  $D$ and $D'$ are neighboring datasets.\n",
    "\n",
    "Two dataset are neighboring if they differ in  the data of a single individual. E.g. if we remove or change the data of an individual, the result is a dataset that is neighboring to the original.\n",
    "\n",
    "Distance is sometimes defined by the difference in attributes/columns. Two datasets are neighboring if they differ in one attribute of a single individual. \n",
    "\n",
    "If there is only one attribute, the two definitions are the same."
   ]
  },
  {
   "cell_type": "markdown",
   "id": "037173ac",
   "metadata": {
    "jp-MarkdownHeadingCollapsed": true,
    "slideshow": {
     "slide_type": "slide"
    }
   },
   "source": [
    "### Definition\n",
    "\n",
    " > A randomized algorithm $M$ is $\\varepsilon$-differentially private if for all neighboring dataset $D$ and $D'$ and all possible sets of output $S$, $$\\frac{\\Pr[M(D) \\in S]}{\\Pr[M(D') \\in S]} \\le e^\\varepsilon $$\n",
    " \n",
    " The algorithm produces a different output for neighboring datasets with only a small probability.\n",
    " "
   ]
  },
  {
   "cell_type": "markdown",
   "id": "27fe6f7b",
   "metadata": {
    "slideshow": {
     "slide_type": "subslide"
    }
   },
   "source": [
    "### The parameter $\\varepsilon$\n",
    "\n",
    " - $\\varepsilon$ is the privacy parameter/privacy budget. It tunes the amount of privacy the definition provides.\n",
    "      - Small $\\varepsilon \\Rightarrow$ more privacy.\n",
    "      - Large $\\varepsilon \\Rightarrow$ less privacy."
   ]
  },
  {
   "cell_type": "markdown",
   "id": "6ac70fb7",
   "metadata": {
    "slideshow": {
     "slide_type": "subslide"
    }
   },
   "source": [
    "### Discrete Distributions\n",
    "\n",
    "> Suppose the range (output) of $M$ is a discrete (finite) set (e.g., integers, 32-bit floating-point numbers, marital status, etc.), In that case, the definition can consider $S$ to be a single value (e.g., 37, married, etc.). Then we can write $M(D) = S$ instead of $M(D) \\in S$ the inequality:\n",
    "$$ \\frac{\\Pr[M(D) = S]}{\\Pr[M(D') = S]} \\le e^\\varepsilon $$"
   ]
  },
  {
   "cell_type": "markdown",
   "id": "8bfab9c8",
   "metadata": {
    "slideshow": {
     "slide_type": "slide"
    }
   },
   "source": [
    "### How do we acheive differential privacy?"
   ]
  },
  {
   "cell_type": "markdown",
   "id": "4d7d6298",
   "metadata": {
    "slideshow": {
     "slide_type": "fragment"
    }
   },
   "source": [
    " - Add noise to the outcome of the algorithm.\n",
    " - Randomize response - lie about the answer with some probability"
   ]
  },
  {
   "cell_type": "code",
   "execution_count": 1,
   "id": "e6bddd40",
   "metadata": {
    "slideshow": {
     "slide_type": "skip"
    }
   },
   "outputs": [],
   "source": [
    "import pandas as pd\n",
    "import numpy as np\n",
    "import matplotlib.pyplot as plt"
   ]
  },
  {
   "cell_type": "code",
   "execution_count": 2,
   "id": "7e32ea5f",
   "metadata": {
    "scrolled": true,
    "slideshow": {
     "slide_type": "slide"
    }
   },
   "outputs": [
    {
     "data": {
      "text/html": [
       "<div>\n",
       "<style scoped>\n",
       "    .dataframe tbody tr th:only-of-type {\n",
       "        vertical-align: middle;\n",
       "    }\n",
       "\n",
       "    .dataframe tbody tr th {\n",
       "        vertical-align: top;\n",
       "    }\n",
       "\n",
       "    .dataframe thead th {\n",
       "        text-align: right;\n",
       "    }\n",
       "</style>\n",
       "<table border=\"1\" class=\"dataframe\">\n",
       "  <thead>\n",
       "    <tr style=\"text-align: right;\">\n",
       "      <th></th>\n",
       "      <th>Name</th>\n",
       "      <th>First Name</th>\n",
       "      <th>Last Name</th>\n",
       "      <th>Sex</th>\n",
       "      <th>SSN</th>\n",
       "      <th>DOB</th>\n",
       "      <th>Birthday</th>\n",
       "      <th>Age</th>\n",
       "      <th>Zip</th>\n",
       "      <th>Education</th>\n",
       "      <th>Marital Status</th>\n",
       "      <th>Occupation</th>\n",
       "      <th>Salary</th>\n",
       "    </tr>\n",
       "  </thead>\n",
       "  <tbody>\n",
       "    <tr>\n",
       "      <th>0</th>\n",
       "      <td>Jason Ortiz</td>\n",
       "      <td>Jason</td>\n",
       "      <td>Ortiz</td>\n",
       "      <td>Male</td>\n",
       "      <td>239-62-5065</td>\n",
       "      <td>12/24/65</td>\n",
       "      <td>12/24</td>\n",
       "      <td>58</td>\n",
       "      <td>55813</td>\n",
       "      <td>Bachelors degree</td>\n",
       "      <td>Widowed</td>\n",
       "      <td>Engineer/ production</td>\n",
       "      <td>Under 25k</td>\n",
       "    </tr>\n",
       "    <tr>\n",
       "      <th>1</th>\n",
       "      <td>Anna Brown</td>\n",
       "      <td>Anna</td>\n",
       "      <td>Brown</td>\n",
       "      <td>Female</td>\n",
       "      <td>860-48-3325</td>\n",
       "      <td>03/21/99</td>\n",
       "      <td>03/21</td>\n",
       "      <td>25</td>\n",
       "      <td>25593</td>\n",
       "      <td>Bachelors degree</td>\n",
       "      <td>Never married</td>\n",
       "      <td>Systems developer</td>\n",
       "      <td>100k to 200k</td>\n",
       "    </tr>\n",
       "    <tr>\n",
       "      <th>2</th>\n",
       "      <td>Kevin Anderson</td>\n",
       "      <td>Kevin</td>\n",
       "      <td>Anderson</td>\n",
       "      <td>Male</td>\n",
       "      <td>176-24-2913</td>\n",
       "      <td>05/11/67</td>\n",
       "      <td>05/11</td>\n",
       "      <td>57</td>\n",
       "      <td>29066</td>\n",
       "      <td>No degree</td>\n",
       "      <td>Never married</td>\n",
       "      <td>Equities trader</td>\n",
       "      <td>50k to 100k</td>\n",
       "    </tr>\n",
       "    <tr>\n",
       "      <th>3</th>\n",
       "      <td>Patricia Clarke</td>\n",
       "      <td>Patricia</td>\n",
       "      <td>Clarke</td>\n",
       "      <td>Female</td>\n",
       "      <td>384-30-3488</td>\n",
       "      <td>12/23/76</td>\n",
       "      <td>12/23</td>\n",
       "      <td>47</td>\n",
       "      <td>81645</td>\n",
       "      <td>High school/GED</td>\n",
       "      <td>Divorce</td>\n",
       "      <td>Restaurant manager</td>\n",
       "      <td>50k to 100k</td>\n",
       "    </tr>\n",
       "    <tr>\n",
       "      <th>4</th>\n",
       "      <td>Robert Watson</td>\n",
       "      <td>Robert</td>\n",
       "      <td>Watson</td>\n",
       "      <td>Male</td>\n",
       "      <td>066-16-3817</td>\n",
       "      <td>04/08/01</td>\n",
       "      <td>04/08</td>\n",
       "      <td>23</td>\n",
       "      <td>27301</td>\n",
       "      <td>No degree</td>\n",
       "      <td>Married</td>\n",
       "      <td>Facilities manager</td>\n",
       "      <td>25k to 50k</td>\n",
       "    </tr>\n",
       "    <tr>\n",
       "      <th>5</th>\n",
       "      <td>Joseph Carrillo</td>\n",
       "      <td>Joseph</td>\n",
       "      <td>Carrillo</td>\n",
       "      <td>Male</td>\n",
       "      <td>426-75-3893</td>\n",
       "      <td>12/23/88</td>\n",
       "      <td>12/23</td>\n",
       "      <td>35</td>\n",
       "      <td>60983</td>\n",
       "      <td>Masters degree</td>\n",
       "      <td>Never married</td>\n",
       "      <td>Designer/ multimedia</td>\n",
       "      <td>100k to 200k</td>\n",
       "    </tr>\n",
       "  </tbody>\n",
       "</table>\n",
       "</div>"
      ],
      "text/plain": [
       "              Name First Name Last Name     Sex          SSN       DOB  \\\n",
       "0      Jason Ortiz      Jason     Ortiz    Male  239-62-5065  12/24/65   \n",
       "1       Anna Brown       Anna     Brown  Female  860-48-3325  03/21/99   \n",
       "2   Kevin Anderson      Kevin  Anderson    Male  176-24-2913  05/11/67   \n",
       "3  Patricia Clarke   Patricia    Clarke  Female  384-30-3488  12/23/76   \n",
       "4    Robert Watson     Robert    Watson    Male  066-16-3817  04/08/01   \n",
       "5  Joseph Carrillo     Joseph  Carrillo    Male  426-75-3893  12/23/88   \n",
       "\n",
       "  Birthday  Age    Zip         Education Marital Status            Occupation  \\\n",
       "0    12/24   58  55813  Bachelors degree        Widowed  Engineer/ production   \n",
       "1    03/21   25  25593  Bachelors degree  Never married     Systems developer   \n",
       "2    05/11   57  29066         No degree  Never married       Equities trader   \n",
       "3    12/23   47  81645   High school/GED        Divorce    Restaurant manager   \n",
       "4    04/08   23  27301         No degree        Married    Facilities manager   \n",
       "5    12/23   35  60983    Masters degree  Never married  Designer/ multimedia   \n",
       "\n",
       "         Salary  \n",
       "0     Under 25k  \n",
       "1  100k to 200k  \n",
       "2   50k to 100k  \n",
       "3   50k to 100k  \n",
       "4    25k to 50k  \n",
       "5  100k to 200k  "
      ]
     },
     "execution_count": 2,
     "metadata": {},
     "output_type": "execute_result"
    }
   ],
   "source": [
    "adult = pd.read_csv(\"data.csv\")\n",
    "adult.head(6)"
   ]
  },
  {
   "cell_type": "markdown",
   "id": "b4eccac7",
   "metadata": {
    "slideshow": {
     "slide_type": "slide"
    }
   },
   "source": [
    "## Laplace mechanism"
   ]
  },
  {
   "cell_type": "markdown",
   "id": "d4985e2f",
   "metadata": {
    "slideshow": {
     "slide_type": "slide"
    }
   },
   "source": [
    "### Laplace distribution\n",
    "\n",
    "Properties:\n",
    " - *double exponential* distribution\n",
    " - Laplace distribution has two parameters\n",
    " - $\\mu$: mean (or location), $b > 0$: scale (or diversity)\n",
    " - If $\\mu=0$ and $b=1$, the positive half-line is exactly an exponential distribution scaled by 1/2.\n",
    " \n",
    "$Lap(t)$ denotes sampling from the Laplace distribution with *location/mean = 0* and *scale t*."
   ]
  },
  {
   "cell_type": "code",
   "execution_count": 3,
   "id": "cef17d5c",
   "metadata": {
    "slideshow": {
     "slide_type": "subslide"
    }
   },
   "outputs": [
    {
     "data": {
      "image/png": "[encoded data removed]",
      "text/plain": [
       "<Figure size 640x480 with 1 Axes>"
      ]
     },
     "metadata": {},
     "output_type": "display_data"
    }
   ],
   "source": [
    "# Step 1: Parameters: loc is the location parameter (mean), scale is the scale parameter (variance)\n",
    "mean = [0, 2, 0, 0]    # mean (location)\n",
    "scale = [1, 3, 2, 4]   # scale (diversity)\n",
    "color = ['r', 'g', 'b', 'k']\n",
    "\n",
    "# Step 2: Plot the Laplace distribution\n",
    "x = np.linspace(-10, 10, 100)\n",
    "for i in range(4):\n",
    "    pdf = (1/(2*scale[i])) * np.exp(-np.abs(x-mean[i])/scale[i])\n",
    "    plt.plot(x, pdf, color[i], label = [mean[i], scale[i]], linewidth=2)\n",
    "\n",
    "plt.title('Probability density function of Laplace Distribution')\n",
    "plt.xlabel('Value')\n",
    "plt.ylabel('Density')\n",
    "plt.legend()\n",
    "plt.show()"
   ]
  },
  {
   "cell_type": "code",
   "execution_count": 4,
   "id": "bb6b26f6",
   "metadata": {
    "scrolled": true
   },
   "outputs": [
    {
     "data": {
      "image/png": "[encoded data removed]",
      "text/plain": [
       "<Figure size 640x480 with 1 Axes>"
      ]
     },
     "metadata": {},
     "output_type": "display_data"
    }
   ],
   "source": [
    "# Step 1: Generate random samples from a Laplace distribution\n",
    "# Parameters: loc is the location parameter (mean), scale is the scale parameter (variance)\n",
    "mean = 0    # mean (location)\n",
    "scale = 1   # scale (diversity)\n",
    "\n",
    "# Generate 10000 random samples from the Laplace distribution\n",
    "data = np.random.laplace(loc=mean, scale=scale, size=10000)\n",
    "\n",
    "# Step 2: Plot the histogram\n",
    "plt.hist(data, bins=50, density=True, color='r')\n",
    "\n",
    "plt.title('Histogram of Laplace Distribution')\n",
    "plt.xlabel('Value')\n",
    "plt.ylabel('Density')\n",
    "plt.show()"
   ]
  },
  {
   "cell_type": "markdown",
   "id": "e9171cb1",
   "metadata": {
    "slideshow": {
     "slide_type": "slide"
    }
   },
   "source": [
    "### Sensitivity\n",
    "\n",
    " - The amount of the function's output can change if the input changes.\n",
    " - Let $f: \\mathcal{D} \\rightarrow \\mathbb{R}$ be a function. Then $$S(f) = \\max_{x,x':d(x),d(x')\\le 1} |f(x) - f(x')|$$\n",
    " - If $f$ is a count query, then $S(f) = 1$.\n",
    " - If $f$ is the age sum query, then $S(f)$ is the maximal possible age of an individual.\n",
    " - It is often challenging to compute the sensitivity. We will discuss this later."
   ]
  },
  {
   "cell_type": "markdown",
   "id": "f5447974",
   "metadata": {
    "slideshow": {
     "slide_type": "slide"
    }
   },
   "source": [
    "### Laplace mechanism\n",
    "\n",
    "Let $f$ be a function that returns a number. Defy $M$ the following way: $$ M(x) = f(x) + Lap\\left(\\frac{S(f)}{\\varepsilon}\\right).$$\n",
    "\n",
    "If $f$ is a count query, then $$ M(x) = f(x) + Lap\\left(\\frac{1}{\\varepsilon}\\right).$$\n",
    "\n",
    "> **Theorem:** The Laplace mechanism preserves $\\varepsilon$-differential privacy."
   ]
  },
  {
   "cell_type": "markdown",
   "id": "b4180382",
   "metadata": {
    "slideshow": {
     "slide_type": "slide"
    }
   },
   "source": [
    "### Example\n",
    "\n",
    "We want to know the number of individuals with age at least 40."
   ]
  },
  {
   "cell_type": "code",
   "execution_count": 5,
   "id": "eb3f0f94",
   "metadata": {
    "slideshow": {
     "slide_type": "fragment"
    }
   },
   "outputs": [
    {
     "data": {
      "text/plain": [
       "10650"
      ]
     },
     "execution_count": 5,
     "metadata": {},
     "output_type": "execute_result"
    }
   ],
   "source": [
    "adult[adult['Age'] >= 40].shape[0]"
   ]
  },
  {
   "cell_type": "code",
   "execution_count": 6,
   "id": "39ee78a7",
   "metadata": {
    "slideshow": {
     "slide_type": "fragment"
    }
   },
   "outputs": [
    {
     "data": {
      "text/plain": [
       "10637.10953007383"
      ]
     },
     "execution_count": 6,
     "metadata": {},
     "output_type": "execute_result"
    }
   ],
   "source": [
    "sensitivity = 1\n",
    "epsilon = 0.1\n",
    "\n",
    "adult[adult['Age'] >= 40].shape[0] + np.random.laplace(loc=0, scale=sensitivity/epsilon)"
   ]
  },
  {
   "cell_type": "markdown",
   "id": "e1a36028",
   "metadata": {
    "slideshow": {
     "slide_type": "slide"
    }
   },
   "source": [
    "### Example 2\n",
    "\n",
    "We test Laplace-mechanism for a query that would result in 1."
   ]
  },
  {
   "cell_type": "code",
   "execution_count": 7,
   "id": "34e1be58",
   "metadata": {
    "slideshow": {
     "slide_type": "fragment"
    }
   },
   "outputs": [
    {
     "data": {
      "text/plain": [
       "1"
      ]
     },
     "execution_count": 7,
     "metadata": {},
     "output_type": "execute_result"
    }
   ],
   "source": [
    "jasons_row = adult[adult['Name'] == 'Jason Ortiz']\n",
    "jasons_row[jasons_row['Salary'] == 'Under 25k'].shape[0]"
   ]
  },
  {
   "cell_type": "code",
   "execution_count": 8,
   "id": "9bacc42b",
   "metadata": {
    "slideshow": {
     "slide_type": "fragment"
    }
   },
   "outputs": [
    {
     "data": {
      "text/plain": [
       "-1.8971602066760398"
      ]
     },
     "execution_count": 8,
     "metadata": {},
     "output_type": "execute_result"
    }
   ],
   "source": [
    "sensitivity = 1\n",
    "epsilon = 0.1\n",
    "\n",
    "jasons_row = adult[adult['Name'] == 'Jason Ortiz']\n",
    "jasons_row[jasons_row['Salary'] == 'Under 25k'].shape[0] + np.random.laplace(loc=0, scale=sensitivity/epsilon)"
   ]
  },
  {
   "cell_type": "markdown",
   "id": "1be77b79",
   "metadata": {
    "slideshow": {
     "slide_type": "subslide"
    }
   },
   "source": [
    "Let's experiment with different values of $\\varepsilon$!"
   ]
  },
  {
   "cell_type": "code",
   "execution_count": 9,
   "id": "34cce81a",
   "metadata": {},
   "outputs": [
    {
     "data": {
      "text/plain": [
       "8.409105282514648"
      ]
     },
     "execution_count": 9,
     "metadata": {},
     "output_type": "execute_result"
    }
   ],
   "source": [
    "epsilon = 0.1\n",
    "jasons_row[jasons_row['Salary'] == 'Under 25k'].shape[0] + np.random.laplace(loc=0, scale=sensitivity/epsilon)"
   ]
  },
  {
   "cell_type": "code",
   "execution_count": 10,
   "id": "7afc7447",
   "metadata": {
    "slideshow": {
     "slide_type": "fragment"
    }
   },
   "outputs": [
    {
     "data": {
      "text/plain": [
       "1.5033274470387288"
      ]
     },
     "execution_count": 10,
     "metadata": {},
     "output_type": "execute_result"
    }
   ],
   "source": [
    "epsilon = 1\n",
    "jasons_row[jasons_row['Salary'] == 'Under 25k'].shape[0] + np.random.laplace(loc=0, scale=sensitivity/epsilon)"
   ]
  },
  {
   "cell_type": "code",
   "execution_count": 11,
   "id": "57151aaf",
   "metadata": {
    "slideshow": {
     "slide_type": "fragment"
    }
   },
   "outputs": [
    {
     "data": {
      "text/plain": [
       "0.8742623125128842"
      ]
     },
     "execution_count": 11,
     "metadata": {},
     "output_type": "execute_result"
    }
   ],
   "source": [
    "epsilon = 10\n",
    "jasons_row[jasons_row['Salary'] == 'Under 25k'].shape[0] + np.random.laplace(loc=0, scale=sensitivity/epsilon)"
   ]
  },
  {
   "cell_type": "code",
   "execution_count": 12,
   "id": "7f517bbf",
   "metadata": {
    "slideshow": {
     "slide_type": "fragment"
    }
   },
   "outputs": [
    {
     "data": {
      "text/plain": [
       "0.996859467237384"
      ]
     },
     "execution_count": 12,
     "metadata": {},
     "output_type": "execute_result"
    }
   ],
   "source": [
    "epsilon = 100\n",
    "jasons_row[jasons_row['Salary'] == 'Under 25k'].shape[0] + np.random.laplace(loc=0, scale=sensitivity/epsilon)"
   ]
  },
  {
   "cell_type": "markdown",
   "id": "3bb63ebc",
   "metadata": {
    "slideshow": {
     "slide_type": "slide"
    }
   },
   "source": [
    "Summary:\n",
    " - Differential privacy can protect individuals in a dataset.   \n",
    " - Laplace mechanism can provide DP.\n",
    " - The level of privacy depends on the parameter $\\varepsilon$.\n",
    " - Small values of $\\varepsilon$ provide more privacy but have less accuracy.\n",
    " - Large values of $\\varepsilon$ provide less privacy but are more accurate."
   ]
  },
  {
   "cell_type": "markdown",
   "id": "50c93a88",
   "metadata": {
    "slideshow": {
     "slide_type": "slide"
    }
   },
   "source": [
    "## Compositions of DP"
   ]
  },
  {
   "cell_type": "markdown",
   "id": "8e22db63",
   "metadata": {
    "slideshow": {
     "slide_type": "slide"
    }
   },
   "source": [
    "### Sequential Composition\n",
    "\n",
    "We saw that releasing multiple queries of the same data violates privacy for aggregations. Does DP provide privacy?"
   ]
  },
  {
   "cell_type": "markdown",
   "id": "2350df7a",
   "metadata": {
    "slideshow": {
     "slide_type": "fragment"
    }
   },
   "source": [
    "> Theorem (Sequential Composition):\n",
    ">    - $M_1$ and $M_2$ are two mechanisms.\n",
    ">    - If $M_1$ satisfies $\\varepsilon_1$-differential privacy, and $M_2$ satisfies $\\varepsilon_2$-differential privacy, then the mechanism $M = (M_1,M_2)$ which releases both results, satisfies $\\varepsilon_1 + \\varepsilon_2$-differential privacy."
   ]
  },
  {
   "cell_type": "markdown",
   "id": "f3c2f4af",
   "metadata": {
    "slideshow": {
     "slide_type": "subslide"
    }
   },
   "source": [
    " - We can ask for queries from the same dataset multiple times. The result is still DP but with a larger $\\varepsilon$ (less private).\n",
    " - The given privacy budget is upper bound so that the actual privacy cost may be smaller."
   ]
  },
  {
   "cell_type": "markdown",
   "id": "73177da9",
   "metadata": {
    "slideshow": {
     "slide_type": "slide"
    }
   },
   "source": [
    "Let's try the differencing attack! With the choice $\\varepsilon = 0.5$, the final result satisfies 1-DP. "
   ]
  },
  {
   "cell_type": "code",
   "execution_count": 13,
   "id": "d47cadd4",
   "metadata": {
    "slideshow": {
     "slide_type": "-"
    }
   },
   "outputs": [
    {
     "data": {
      "text/plain": [
       "-1.9584546359842525"
      ]
     },
     "execution_count": 13,
     "metadata": {},
     "output_type": "execute_result"
    }
   ],
   "source": [
    "epsilon = 0.5\n",
    "numb1 = adult[adult['Salary'] == 'Under 25'].shape[0] + np.random.laplace(loc=0, scale=1/epsilon)\n",
    "adult_no_jason = adult[adult['Name'] != 'Jason Ortiz']\n",
    "numb2 = adult_no_jason[adult_no_jason['Salary'] == 'Under 25'].shape[0] + np.random.laplace(loc=0, scale=1/epsilon)\n",
    "numb1 - numb2"
   ]
  },
  {
   "cell_type": "markdown",
   "id": "5e14c282",
   "metadata": {
    "slideshow": {
     "slide_type": "slide"
    }
   },
   "source": [
    "Let's compare the privacy cost of the noises that we add to the query. "
   ]
  },
  {
   "cell_type": "code",
   "execution_count": 14,
   "id": "bdf975c8",
   "metadata": {
    "slideshow": {
     "slide_type": "subslide"
    }
   },
   "outputs": [],
   "source": [
    "epsilon1 = 1\n",
    "epsilon2 = 1\n",
    "epsilon_total = 2\n",
    "\n",
    "# satisfies 1-differential privacy\n",
    "def F1():\n",
    "    return np.random.laplace(loc=0, scale=1/epsilon1)\n",
    "\n",
    "# satisfies 1-differential privacy\n",
    "def F2():\n",
    "    return np.random.laplace(loc=0, scale=1/epsilon2)\n",
    "\n",
    "# satisfies 2-differential privacy\n",
    "def F3():\n",
    "    return np.random.laplace(loc=0, scale=1/epsilon_total)\n",
    "\n",
    "# satisfies 2-differential privacy, by sequential composition\n",
    "def F_combined():\n",
    "    return (F1() + F2()) / 2"
   ]
  },
  {
   "cell_type": "code",
   "execution_count": 15,
   "id": "05d6ac90",
   "metadata": {
    "slideshow": {
     "slide_type": "-"
    }
   },
   "outputs": [
    {
     "data": {
      "image/png": "[encoded data removed]",
      "text/plain": [
       "<Figure size 640x480 with 1 Axes>"
      ]
     },
     "metadata": {},
     "output_type": "display_data"
    }
   ],
   "source": [
    "# plot F1\n",
    "plt.hist([F1() for i in range(2000)], bins=100, label='F1', density = True);\n",
    "\n",
    "# plot F2 (should look the same)\n",
    "plt.hist([F2() for i in range(2000)], bins=100, alpha=.7, label='F2', density = True);\n",
    "plt.legend();"
   ]
  },
  {
   "cell_type": "markdown",
   "id": "7c3c374d",
   "metadata": {
    "slideshow": {
     "slide_type": "subslide"
    }
   },
   "source": [
    "The graph F1 and F2 looks pretty similar, because they are generated by the same distribution."
   ]
  },
  {
   "cell_type": "code",
   "execution_count": 16,
   "id": "c24a88ea",
   "metadata": {},
   "outputs": [
    {
     "data": {
      "image/png": "[encoded data removed]",
      "text/plain": [
       "<Figure size 640x480 with 1 Axes>"
      ]
     },
     "metadata": {},
     "output_type": "display_data"
    }
   ],
   "source": [
    "# plot F1\n",
    "plt.hist([F1() for i in range(2000)], bins=100, label='F1', density = True);\n",
    "\n",
    "# plot F3 (should look \"pointier\")\n",
    "plt.hist([F3() for i in range(2000)], bins=50, alpha=.7, label='F3', density = True);\n",
    "plt.legend();"
   ]
  },
  {
   "cell_type": "markdown",
   "id": "a4932f86",
   "metadata": {
    "slideshow": {
     "slide_type": "subslide"
    }
   },
   "source": [
    "The graph **F3** looks *pointier*. It is not a surprise, as the scale is smaller. Therefore **F3** provide less privacy than **F1**, which is exactly what we were expecting from a higher value of $\\varepsilon$. "
   ]
  },
  {
   "cell_type": "code",
   "execution_count": 17,
   "id": "db793ece",
   "metadata": {},
   "outputs": [
    {
     "data": {
      "image/png": "[encoded data removed]",
      "text/plain": [
       "<Figure size 640x480 with 1 Axes>"
      ]
     },
     "metadata": {},
     "output_type": "display_data"
    }
   ],
   "source": [
    "# plot F1\n",
    "plt.hist([F1() for i in range(2000)], bins=100, label='F1', density = True);\n",
    "\n",
    "# plot F_combined (should look \"pointier\")\n",
    "plt.hist([F_combined() for i in range(2000)], bins=100, alpha=.7, label='F_combined', density = True);\n",
    "plt.legend();\n"
   ]
  },
  {
   "cell_type": "markdown",
   "id": "1b93e732",
   "metadata": {
    "slideshow": {
     "slide_type": "subslide"
    }
   },
   "source": [
    "The graph **F_combined** is a little bit *pointier*, therefore it provide less privacy than **F_1**. This is coincide with our expectation."
   ]
  },
  {
   "cell_type": "code",
   "execution_count": 18,
   "id": "374c963b",
   "metadata": {
    "scrolled": true,
    "slideshow": {
     "slide_type": "-"
    }
   },
   "outputs": [
    {
     "data": {
      "image/png": "[encoded data removed]",
      "text/plain": [
       "<Figure size 640x480 with 1 Axes>"
      ]
     },
     "metadata": {},
     "output_type": "display_data"
    }
   ],
   "source": [
    "# plot F1\n",
    "plt.hist([F3() for i in range(2000)], bins=100, label='F3', density = True);\n",
    "\n",
    "# plot F_combined (should look \"pointier\")\n",
    "plt.hist([F_combined() for i in range(2000)], bins=100, alpha=.7, label='F_combined', density = True);\n",
    "plt.legend();"
   ]
  },
  {
   "cell_type": "markdown",
   "id": "6baba78d",
   "metadata": {
    "slideshow": {
     "slide_type": "subslide"
    }
   },
   "source": [
    "The graph **F3** is *pointier*, therefore it provides less privacy. The privacy budget for both **F3** and **F_combined** is 2, so why is there a difference? The reason that the 2 is an upper bound for the privacy cost for **F_combined**, the actual cumulative impact on privacy is lower.  "
   ]
  },
  {
   "cell_type": "markdown",
   "id": "37c0c556-a1b8-4c55-8f9d-e50b36451236",
   "metadata": {},
   "source": [
    "## Parallel Composition"
   ]
  },
  {
   "cell_type": "markdown",
   "id": "a7d2a242-3987-41ec-b7a3-b62b51627408",
   "metadata": {},
   "source": [
    " - Splitting the dataset into disjoint chunks\n",
    " - Running a differentially private mechanism on each chunk separately."
   ]
  },
  {
   "cell_type": "markdown",
   "id": "604b32bc-05fc-40e6-9495-e43d436f0de4",
   "metadata": {},
   "source": [
    " - The chunks are disjoint, so each individual's data appears in exactly one chunk.\n",
    " - The mechanism runs exactly once on the data of each individual.\n",
    "  \n",
    "> ### Theorem (Parallel Composition) \n",
    "> Suppose that $M$ satisfies $\\varepsilon$-differential privacy. Split datast $D$ into disjoint chunks, such that $D =D_1 \\cup \\dots D_k$. Then the mechanism which releases $M(D_1),\\dots,M(D_k)$ satisfies $\\varepsilon$-differential privacy.\n",
    " \n",
    "  - The budget of running $k$ $\\varepsilon$-DP algortihm on disjoint chunks of dataset gives a privacy budget $\\varepsilon$ instead of $k\\varepsilon$."
   ]
  },
  {
   "cell_type": "markdown",
   "id": "f8988d38-8129-487b-bcac-0c3ab425cd67",
   "metadata": {},
   "source": [
    "### Histograms\n",
    "\n",
    "Anaysis of a dataset which splits the dataset into \"bins\" based on value of one of the data attributes, and counts the number of rows in each bin.\n",
    "\n",
    "Example: Count the number of people in the dataset who achieved a particular educational level."
   ]
  },
  {
   "cell_type": "code",
   "execution_count": 19,
   "id": "fcc0ceb8-b9f1-4565-a8d2-eba71fa8c8ec",
   "metadata": {},
   "outputs": [
    {
     "data": {
      "text/html": [
       "<div>\n",
       "<style scoped>\n",
       "    .dataframe tbody tr th:only-of-type {\n",
       "        vertical-align: middle;\n",
       "    }\n",
       "\n",
       "    .dataframe tbody tr th {\n",
       "        vertical-align: top;\n",
       "    }\n",
       "\n",
       "    .dataframe thead th {\n",
       "        text-align: right;\n",
       "    }\n",
       "</style>\n",
       "<table border=\"1\" class=\"dataframe\">\n",
       "  <thead>\n",
       "    <tr style=\"text-align: right;\">\n",
       "      <th></th>\n",
       "      <th>count</th>\n",
       "    </tr>\n",
       "    <tr>\n",
       "      <th>Education</th>\n",
       "      <th></th>\n",
       "    </tr>\n",
       "  </thead>\n",
       "  <tbody>\n",
       "    <tr>\n",
       "      <th>High school/GED</th>\n",
       "      <td>5793</td>\n",
       "    </tr>\n",
       "    <tr>\n",
       "      <th>Bachelors degree</th>\n",
       "      <td>4337</td>\n",
       "    </tr>\n",
       "    <tr>\n",
       "      <th>Some college</th>\n",
       "      <td>3251</td>\n",
       "    </tr>\n",
       "    <tr>\n",
       "      <th>Associate degree</th>\n",
       "      <td>2058</td>\n",
       "    </tr>\n",
       "    <tr>\n",
       "      <th>No degree</th>\n",
       "      <td>2010</td>\n",
       "    </tr>\n",
       "  </tbody>\n",
       "</table>\n",
       "</div>"
      ],
      "text/plain": [
       "                  count\n",
       "Education              \n",
       "High school/GED    5793\n",
       "Bachelors degree   4337\n",
       "Some college       3251\n",
       "Associate degree   2058\n",
       "No degree          2010"
      ]
     },
     "execution_count": 19,
     "metadata": {},
     "output_type": "execute_result"
    }
   ],
   "source": [
    "adult = pd.read_csv(\"data.csv\")\n",
    "adult['Education'].value_counts().to_frame().head(5)"
   ]
  },
  {
   "cell_type": "markdown",
   "id": "8caa4321-90e7-49dd-8764-b6ab7fdeeaa2",
   "metadata": {},
   "source": [
    " - Histograms automatically satisfy parallel composition.\n",
    " - Each \"bin\" in a histogram is defined by a possible value for a data attribute (e.g., 'Education' = 'Bachelor's degree')"
   ]
  },
  {
   "cell_type": "code",
   "execution_count": 20,
   "id": "bd1f9e0b-598c-4e65-997e-19574e12f4c0",
   "metadata": {},
   "outputs": [
    {
     "data": {
      "text/html": [
       "<div>\n",
       "<style scoped>\n",
       "    .dataframe tbody tr th:only-of-type {\n",
       "        vertical-align: middle;\n",
       "    }\n",
       "\n",
       "    .dataframe tbody tr th {\n",
       "        vertical-align: top;\n",
       "    }\n",
       "\n",
       "    .dataframe thead th {\n",
       "        text-align: right;\n",
       "    }\n",
       "</style>\n",
       "<table border=\"1\" class=\"dataframe\">\n",
       "  <thead>\n",
       "    <tr style=\"text-align: right;\">\n",
       "      <th></th>\n",
       "      <th>count</th>\n",
       "    </tr>\n",
       "    <tr>\n",
       "      <th>Education</th>\n",
       "      <th></th>\n",
       "    </tr>\n",
       "  </thead>\n",
       "  <tbody>\n",
       "    <tr>\n",
       "      <th>High school/GED</th>\n",
       "      <td>5791.610560</td>\n",
       "    </tr>\n",
       "    <tr>\n",
       "      <th>Bachelors degree</th>\n",
       "      <td>4336.972555</td>\n",
       "    </tr>\n",
       "    <tr>\n",
       "      <th>Some college</th>\n",
       "      <td>3250.932768</td>\n",
       "    </tr>\n",
       "    <tr>\n",
       "      <th>Associate degree</th>\n",
       "      <td>2058.910010</td>\n",
       "    </tr>\n",
       "    <tr>\n",
       "      <th>No degree</th>\n",
       "      <td>2008.186442</td>\n",
       "    </tr>\n",
       "  </tbody>\n",
       "</table>\n",
       "</div>"
      ],
      "text/plain": [
       "                        count\n",
       "Education                    \n",
       "High school/GED   5791.610560\n",
       "Bachelors degree  4336.972555\n",
       "Some college      3250.932768\n",
       "Associate degree  2058.910010\n",
       "No degree         2008.186442"
      ]
     },
     "execution_count": 20,
     "metadata": {},
     "output_type": "execute_result"
    }
   ],
   "source": [
    "epsilon = 1\n",
    "\n",
    "# This analysis has a total privacy cost of epsilon = 1, even though we release many results!\n",
    "f = lambda x: x + np.random.laplace(loc=0, scale=1/epsilon)\n",
    "s = adult['Education'].value_counts().apply(f)\n",
    "s.to_frame().head(5)"
   ]
  },
  {
   "cell_type": "markdown",
   "id": "d34f3ccf-0ced-4552-aac3-31993a8af78f",
   "metadata": {},
   "source": [
    "### Contingency Tables (Cross tabulation)\n",
    "\n",
    " - Like a multi-dimensional histogram.\n",
    " - It counts the frequency of rows in the dataset with particular values for more than one attribute at a time.\n",
    " - Contingency tables are frequently used to show the relationship between two variables when analyzing data.\n",
    " - E.g., we might want to see counts based on both education level and gender"
   ]
  },
  {
   "cell_type": "code",
   "execution_count": 21,
   "id": "3be0ad0f-21c3-4f78-81d2-b80fc35ea29a",
   "metadata": {},
   "outputs": [
    {
     "data": {
      "text/html": [
       "<div>\n",
       "<style scoped>\n",
       "    .dataframe tbody tr th:only-of-type {\n",
       "        vertical-align: middle;\n",
       "    }\n",
       "\n",
       "    .dataframe tbody tr th {\n",
       "        vertical-align: top;\n",
       "    }\n",
       "\n",
       "    .dataframe thead th {\n",
       "        text-align: right;\n",
       "    }\n",
       "</style>\n",
       "<table border=\"1\" class=\"dataframe\">\n",
       "  <thead>\n",
       "    <tr style=\"text-align: right;\">\n",
       "      <th>Sex</th>\n",
       "      <th>Female</th>\n",
       "      <th>Male</th>\n",
       "    </tr>\n",
       "    <tr>\n",
       "      <th>Education</th>\n",
       "      <th></th>\n",
       "      <th></th>\n",
       "    </tr>\n",
       "  </thead>\n",
       "  <tbody>\n",
       "    <tr>\n",
       "      <th>Associate degree</th>\n",
       "      <td>996</td>\n",
       "      <td>1062</td>\n",
       "    </tr>\n",
       "    <tr>\n",
       "      <th>Bachelors degree</th>\n",
       "      <td>2179</td>\n",
       "      <td>2158</td>\n",
       "    </tr>\n",
       "    <tr>\n",
       "      <th>Doctorate</th>\n",
       "      <td>185</td>\n",
       "      <td>196</td>\n",
       "    </tr>\n",
       "    <tr>\n",
       "      <th>High school/GED</th>\n",
       "      <td>2960</td>\n",
       "      <td>2833</td>\n",
       "    </tr>\n",
       "    <tr>\n",
       "      <th>Masters degree</th>\n",
       "      <td>954</td>\n",
       "      <td>961</td>\n",
       "    </tr>\n",
       "  </tbody>\n",
       "</table>\n",
       "</div>"
      ],
      "text/plain": [
       "Sex               Female  Male\n",
       "Education                     \n",
       "Associate degree     996  1062\n",
       "Bachelors degree    2179  2158\n",
       "Doctorate            185   196\n",
       "High school/GED     2960  2833\n",
       "Masters degree       954   961"
      ]
     },
     "execution_count": 21,
     "metadata": {},
     "output_type": "execute_result"
    }
   ],
   "source": [
    "pd.crosstab(adult['Education'], adult['Sex']).head(5)"
   ]
  },
  {
   "cell_type": "markdown",
   "id": "b84de02f-71e1-40c7-a572-aa0a200db99d",
   "metadata": {},
   "source": [
    " - Each individual participates in eaxctly one count.\n",
    " - It is safe to use parallel composition."
   ]
  },
  {
   "cell_type": "code",
   "execution_count": 22,
   "id": "2663fe51-b048-497e-9b87-36cf9a31c84a",
   "metadata": {},
   "outputs": [
    {
     "data": {
      "text/html": [
       "<div>\n",
       "<style scoped>\n",
       "    .dataframe tbody tr th:only-of-type {\n",
       "        vertical-align: middle;\n",
       "    }\n",
       "\n",
       "    .dataframe tbody tr th {\n",
       "        vertical-align: top;\n",
       "    }\n",
       "\n",
       "    .dataframe thead th {\n",
       "        text-align: right;\n",
       "    }\n",
       "</style>\n",
       "<table border=\"1\" class=\"dataframe\">\n",
       "  <thead>\n",
       "    <tr style=\"text-align: right;\">\n",
       "      <th>Sex</th>\n",
       "      <th>Female</th>\n",
       "      <th>Male</th>\n",
       "    </tr>\n",
       "    <tr>\n",
       "      <th>Education</th>\n",
       "      <th></th>\n",
       "      <th></th>\n",
       "    </tr>\n",
       "  </thead>\n",
       "  <tbody>\n",
       "    <tr>\n",
       "      <th>Associate degree</th>\n",
       "      <td>997.673018</td>\n",
       "      <td>1061.163121</td>\n",
       "    </tr>\n",
       "    <tr>\n",
       "      <th>Bachelors degree</th>\n",
       "      <td>2177.960404</td>\n",
       "      <td>2156.779994</td>\n",
       "    </tr>\n",
       "    <tr>\n",
       "      <th>Doctorate</th>\n",
       "      <td>185.382002</td>\n",
       "      <td>196.225632</td>\n",
       "    </tr>\n",
       "    <tr>\n",
       "      <th>High school/GED</th>\n",
       "      <td>2959.605819</td>\n",
       "      <td>2833.073785</td>\n",
       "    </tr>\n",
       "    <tr>\n",
       "      <th>Masters degree</th>\n",
       "      <td>952.634482</td>\n",
       "      <td>959.268956</td>\n",
       "    </tr>\n",
       "  </tbody>\n",
       "</table>\n",
       "</div>"
      ],
      "text/plain": [
       "Sex                    Female         Male\n",
       "Education                                 \n",
       "Associate degree   997.673018  1061.163121\n",
       "Bachelors degree  2177.960404  2156.779994\n",
       "Doctorate          185.382002   196.225632\n",
       "High school/GED   2959.605819  2833.073785\n",
       "Masters degree     952.634482   959.268956"
      ]
     },
     "execution_count": 22,
     "metadata": {},
     "output_type": "execute_result"
    }
   ],
   "source": [
    "ct = pd.crosstab(adult['Education'], adult['Sex'])\n",
    "f = lambda x: x + np.random.laplace(loc=0, scale=1/epsilon)\n",
    "ct.map(f).head(5)"
   ]
  },
  {
   "cell_type": "markdown",
   "id": "716d3365-e40c-4b85-becf-381cbf6d608c",
   "metadata": {},
   "source": [
    "## Post-processing"
   ]
  },
  {
   "cell_type": "markdown",
   "id": "057b559a-60fa-46f4-8add-643a053e9e12",
   "metadata": {},
   "source": [
    " - Informally: It is impossible to reverse the privacy protection provided by DP by post-processing the data in some way.\n",
    " \n",
    " > ### Post processing\n",
    " > If $M$ satisfies DP, then for any function $g$, $g(M)$ satisfies $\\varepsilon$-DP."
   ]
  },
  {
   "cell_type": "markdown",
   "id": "047ea837-4d6e-4b17-986b-0a4d33ee7ea1",
   "metadata": {},
   "source": [
    " - It is safe to perform post-processing that might reduce the noise or improve the signal in the mechanism's output.\n",
    "  - Once we put DP on a data, it always remains on it."
   ]
  },
  {
   "cell_type": "markdown",
   "id": "e2358494-0f64-4666-a524-d0a22c227dac",
   "metadata": {},
   "source": [
    " - DP provide resistance against privacy attacks based on auxiliary information.\n",
    "  - E.g., function $g$ might contain auxiliary inforamtion.\n",
    "  - Linkage attacks based on this information are limited in its effectivenss by the parameter $\\varepsilon$."
   ]
  },
  {
   "cell_type": "markdown",
   "id": "0eb90068-bd64-47dd-9c2f-bda901389847",
   "metadata": {},
   "source": [
    "### Summary\n",
    "\n",
    " - Sequential composition bounds the total privacy cost of multiple release of the data when apply DP\n",
    " - Parallel composition is based on splitting the dataset into disjoint chunks and run the DP mechanism separately. The privacy cost is only the cost of one DP mechanism.\n",
    " - Post-processing property means that it is safe to perform arbitrary computations on the output of DP, in particular it is protect against attacks based on auxiliary inforamtion."
   ]
  },
  {
   "cell_type": "markdown",
   "id": "dd31fc90-096f-4e6b-a213-7c053594f65b",
   "metadata": {},
   "source": [
    "# Approximate Differential Privacy"
   ]
  },
  {
   "cell_type": "markdown",
   "id": "9520cd9d-1792-49e1-92e3-ee44a2d97972",
   "metadata": {},
   "source": [
    "> Algorithm $M$ is $(\\varepsilon,\\delta)$-differentially private if the following holds: $$\\Pr[M(D) = S] \\le e^\\varepsilon \\Pr[M(D') = S] + \\delta$$\n",
    "\n",
    "The difference between $\\epsilon$-DP is the term $\\delta$. What is the meaning of $\\delta$? "
   ]
  },
  {
   "cell_type": "markdown",
   "id": "61e897cf-dc1a-4324-aaf9-2fffe1a8e890",
   "metadata": {},
   "source": [
    "Informally it guarantee $\\varepsilon$-DP with probability $1 -\\delta$ and with $\\delta$ probability there is no quarantee on privacy.\n",
    "\n",
    " - With probability $1 - \\delta$, $\\frac{\\Pr[M(D)=S]}{\\Pr[M(D')=S]} \\le e^\\varepsilon$\n",
    " - With probability $\\delta$, there is no quarantee at all."
   ]
  },
  {
   "cell_type": "markdown",
   "id": "c7e5f5bd-c5e2-46fa-99cc-6691560f43e4",
   "metadata": {},
   "source": [
    "No guarantee? What could happen?\n",
    "\n",
    " - With $\\delta$ probability, the algorithm can release the entire dataset with all the sensitive information. Therefore $\\delta$ should be small, e.g., $\\frac{1}{n^2}$, where $n$ is the size of the dataset.\n",
    " - In practice, however, it doesn't seems to release a lot of sensitive information."
   ]
  },
  {
   "cell_type": "markdown",
   "id": "a4a01ba0-e225-46d0-a89f-83b495c13bd5",
   "metadata": {},
   "source": [
    "### Sequential Composition\n",
    "\n",
    ">If $M_1,M_2$ satisfies $(\\varepsilon_1,\\delta_1)$-, and $(\\varepsilon_2,\\delta_2)$-DP, then the mechanism $M = (M_1,M_2)$, which release both results satisfies $(\\varepsilon_1 + \\varepsilon_2,\\delta_1 + \\delta_2)$-DP.\n",
    "\n",
    "Approximate DP also satisfies post-processing and parallel composition."
   ]
  },
  {
   "cell_type": "markdown",
   "id": "c1c775c7-7d30-45a1-b7f9-496cc809561f",
   "metadata": {},
   "source": [
    "## Gaussian Mechanism"
   ]
  },
  {
   "cell_type": "markdown",
   "id": "d16b7604-fd96-4650-bff9-93ac2bd5e222",
   "metadata": {},
   "source": [
    " - The Gaussian mechanism is an alternative to the Laplave mechanism.\n",
    " - Adds Gaussian noise instead of Laplacian noise.\n",
    " - It does not satisfy $\\varepsilon$-DP (pure DP).\n",
    " - It satisfies $(\\varepsilon,\\delta)$-DP."
   ]
  },
  {
   "cell_type": "markdown",
   "id": "9effb2e3-79e4-4912-95c7-306200002fdc",
   "metadata": {},
   "source": [
    " > Let $f$ be a function which returns a number. Mechanism $M$ satisfies $(\\varepsilon,\\delta)$-DP, if $$M(D) = f(D) + \\mathcal{N}(\\sigma^2)$$ \n",
    " > where $\\sigma^2 = \\frac{2s^2\\log(1.25/\\delta)}{\\varepsilon^2}$, $s$ is the sensitivity of $f$ and $\\mathcal{N}$ denotes sampling from Gaussian (normal) distribution with center 0 and variance $\\sigma^2$."
   ]
  },
  {
   "cell_type": "code",
   "execution_count": 23,
   "id": "c2185dcd-daf1-4e1f-800c-35fcbbb06851",
   "metadata": {},
   "outputs": [
    {
     "data": {
      "image/png": "[encoded data removed]",
      "text/plain": [
       "<Figure size 640x480 with 1 Axes>"
      ]
     },
     "metadata": {},
     "output_type": "display_data"
    }
   ],
   "source": [
    "epsilon = 1\n",
    "vals_laplace = [np.random.laplace(loc=0, scale=1/epsilon) for x in range(100000)]\n",
    "\n",
    "delta = 10e-5\n",
    "sigma = np.sqrt(2 * np.log(1.25 / delta)) * 1 / epsilon\n",
    "vals_gauss = [np.random.normal(loc=0, scale=sigma) for x in range(100000)]\n",
    " \n",
    "plt.hist(vals_laplace, bins=50, label='Laplace')\n",
    "plt.hist(vals_gauss, bins=50, alpha=.7, label='Gaussian');\n",
    "plt.legend();"
   ]
  },
  {
   "cell_type": "markdown",
   "id": "e5d8e4a3-f5af-468f-aa35-d7961c9b9faa",
   "metadata": {},
   "source": [
    "### Comparison of precision\n",
    "\n",
    " - Laplace mechanism looks much more pointy, while Gaussian mechanism looks \"squished\". \n",
    " - This results in a smaller amount of noise in Laplace mechanism. \n",
    " - Laplace mechanism is more accurate."
   ]
  },
  {
   "cell_type": "markdown",
   "id": "b8065ff9-1865-49e9-b758-dd0b16607c30",
   "metadata": {},
   "source": [
    "|-               | Laplace mechanism | Gaussian mechanism |\n",
    "|----------------|-------------------|--------------------|\n",
    "|Fail            | No fail           | Fail with $\\delta$ prob.|\n",
    "|Accuracy        | More accurate     | Less accurate      |"
   ]
  }
 ],
 "metadata": {
  "celltoolbar": "Slideshow",
  "kernelspec": {
   "display_name": "Python 3 (ipykernel)",
   "language": "python",
   "name": "python3"
  },
  "language_info": {
   "codemirror_mode": {
    "name": "ipython",
    "version": 3
   },
   "file_extension": ".py",
   "mimetype": "text/x-python",
   "name": "python",
   "nbconvert_exporter": "python",
   "pygments_lexer": "ipython3",
   "version": "3.12.4"
  }
 },
 "nbformat": 4,
 "nbformat_minor": 5
}
